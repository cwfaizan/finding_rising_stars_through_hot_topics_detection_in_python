{
 "cells": [
  {
   "cell_type": "code",
   "execution_count": null,
   "metadata": {},
   "outputs": [],
   "source": [
    "def drawLinePlot(labels, x, y1, y2, y3, y4, xlabel):\n",
    "    \n",
    "    pyplot.xticks(x, labels, rotation='vertical')\n",
    "\n",
    "    pyplot.plot(x, y1, marker='^', linestyle='--', label='StarRank')\n",
    "    pyplot.plot(x, y2, marker='o', linestyle='-.', label='WMIRank')\n",
    "    pyplot.plot(x, y3, marker='D', linestyle='-', label='HSRank WordNet')\n",
    "    pyplot.plot(x, y4, marker='X', linestyle=':', label='HSRank TF-IDF')\n",
    "    pyplot.legend(ncol=2, loc=\"lower left\", bbox_to_anchor=(0,1.02,1,0.08), borderaxespad=0, mode=\"expand\")\n",
    "\n",
    "    pyplot.xlabel(xlabel)\n",
    "    pyplot.ylabel(\"Top Authors Contribution\")\n",
    "\n",
    "    pyplot.show()\n",
    "    \n",
    "\n",
    "#drawLinePlot(labels, x, y1, y2, y3, y4, \"Hot Topics by HSRank (WordNet)\")"
   ]
  },
  {
   "cell_type": "code",
   "execution_count": null,
   "metadata": {},
   "outputs": [],
   "source": [
    "def drawGroupedBarChart(bars1, bars2, bars3, bars4, ylabel):\n",
    "    # set width of bar\n",
    "    barWidth = 0.25\n",
    "\n",
    "    # set height of bar\n",
    "    #bars1 = [12, 30, 1, 8]\n",
    "    #bars2 = [28, 6, 16, 5]\n",
    "    #bars3 = [29, 3, 24, 25]\n",
    "\n",
    "    # Set position of bar on X axis\n",
    "    r1 = np.arange(len(bars1))\n",
    "    r2 = [x + barWidth for x in r1]\n",
    "    r3 = [x + barWidth for x in r2]\n",
    "    r4 = [x + barWidth for x in r3]\n",
    "\n",
    "    # Make the plot\n",
    "    pyplot.bar(r1, bars1, width=barWidth, edgecolor='white', label='StarRank')\n",
    "    pyplot.bar(r2, bars2, width=barWidth, edgecolor='white', label='WMIRank')\n",
    "    pyplot.bar(r3, bars3, width=barWidth, edgecolor='white', label='HSRank WordNet')\n",
    "    pyplot.bar(r4, bars4, width=barWidth, edgecolor='white', label='HSRank IF-IDF')\n",
    "\n",
    "    # Add xticks on the middle of the group bars\n",
    "    #plt.xlabel('group', fontweight='bold')\n",
    "    pyplot.ylabel(ylabel, fontweight='bold')\n",
    "    pyplot.xticks([r + barWidth for r in range(len(bars1))], ['H-Index', 'Socialness'])\n",
    "\n",
    "    # Create legend & Show graphic\n",
    "    pyplot.legend(ncol=4, loc=\"lower left\", bbox_to_anchor=(0,1.02,1,0.08), borderaxespad=0, mode=\"expand\")\n",
    "    pyplot.show()\n",
    "\n",
    "def drawBarChart(star_means, wmi_means, hs_means, hstf_means, xLbl, yLbl):\n",
    "    \n",
    "    print(star_means, wmi_means, hs_means, hstf_means, xLbl, yLbl)\n",
    "    N = 1\n",
    "    ind = np.arange(N) \n",
    "    width = 0.35       \n",
    "    pyplot.bar(ind, star_means, width, label='StarRank '+str(round(float(star_means), 2)))\n",
    "    pyplot.bar(ind + width, wmi_means, width, label='WMIRank '+str(round(float(wmi_means), 2)))\n",
    "    pyplot.bar(ind + width * 2, hs_means, width, label='HSRank WordNet '+str(round(float(hs_means), 2)))\n",
    "    pyplot.bar(ind + width * 3, hstf_means, width, label='HSRank TF-IDF '+str(round(float(hstf_means), 2)))\n",
    "\n",
    "    #pyplot.title(title)\n",
    "    pyplot.xlabel(xLbl)\n",
    "    pyplot.ylabel(yLbl)\n",
    "\n",
    "    pyplot.xticks(ind + width, (''))\n",
    "    pyplot.legend(ncol=2, loc=\"lower left\", bbox_to_anchor=(0,1.02,1,0.08), borderaxespad=0, mode=\"expand\")\n",
    "    #pyplot.show()"
   ]
  },
  {
   "cell_type": "code",
   "execution_count": null,
   "metadata": {},
   "outputs": [],
   "source": [
    "with open(folder_path+'Experiment/hot-topic.txt', 'w') as f:\n",
    "    for i, v in lda_topic[lda_topic.id.isin(hot_topic_id.id)].iterrows():\n",
    "        \n",
    "        terms = ''\n",
    "        t = PrettyTable([v.id.title()])\n",
    "        for topic in v.title:\n",
    "            t.add_row([topic.title()])\n",
    "            terms += topic.title()+'\\n'\n",
    "\n",
    "        f.write(v.id.title()+'\\n')\n",
    "        f.write(terms+'\\n')\n",
    "    print(\"successfully saved\")"
   ]
  },
  {
   "cell_type": "code",
   "execution_count": null,
   "metadata": {},
   "outputs": [],
   "source": []
  }
 ],
 "metadata": {
  "kernelspec": {
   "display_name": "Python 3",
   "language": "python",
   "name": "python3"
  },
  "language_info": {
   "codemirror_mode": {
    "name": "ipython",
    "version": 3
   },
   "file_extension": ".py",
   "mimetype": "text/x-python",
   "name": "python",
   "nbconvert_exporter": "python",
   "pygments_lexer": "ipython3",
   "version": "3.7.3"
  }
 },
 "nbformat": 4,
 "nbformat_minor": 2
}
