{
 "cells": [
  {
   "cell_type": "code",
   "execution_count": null,
   "metadata": {},
   "outputs": [],
   "source": [
    "#https://nlpforhackers.io/wordnet-sentence-similarity/\n",
    "#https://realpython.com/python-csv/\n",
    "#https://chrisalbon.com/#python\n",
    "import re\n",
    "import csv\n",
    "import json\n",
    "import bisect\n",
    "import gensim\n",
    "import nltk\n",
    "from multiprocessing.pool import ThreadPool\n",
    "import numpy as np\n",
    "import pandas as pd\n",
    "import itertools\n",
    "import scipy.interpolate as interpolate\n",
    "from operator import itemgetter\n",
    "from scipy import stats\n",
    "from nltk import pos_tag\n",
    "from decimal import Decimal\n",
    "from IPython.display import clear_output\n",
    "folder_path = 'D:/MS CS/RS DATA/dataset/WMIRank/'\n",
    "print(\"success\")"
   ]
  },
  {
   "cell_type": "markdown",
   "metadata": {},
   "source": [
    "#### cac_k_l -> number of co-authored citations of papers for Author L and K\n",
    "#### tac_k -> total numbers of citations of authors K\n",
    "\n",
    "\n",
    "#### fap_k -> common papers written by K as 1st author\n",
    "#### fap_l -> common papers written by L as 1st author\n",
    "#### tap_k -> total papers written by author K"
   ]
  },
  {
   "cell_type": "code",
   "execution_count": null,
   "metadata": {},
   "outputs": [],
   "source": [
    "author_to_paper = pd.read_json(folder_path+'author-2-paper.json', orient='records', encoding='utf8', lines=True)\n",
    "common_paper = pd.merge(author_to_paper, author_to_paper, on=['pid'], how='inner', suffixes=(\"l\", \"k\"))\n",
    "distinct_common_paper = common_paper[common_paper.aidk != common_paper.aidl]\n",
    "\n",
    "rs_corpus = pd.read_json(folder_path+'rs-corpus.json', orient='records', encoding='utf8', lines=True)\n",
    "author_corpus = pd.read_json(folder_path+'author-corpus.json', orient='records', encoding='utf8', lines=True)\n",
    "print(\"success\")"
   ]
  },
  {
   "cell_type": "code",
   "execution_count": null,
   "metadata": {},
   "outputs": [],
   "source": [
    "wmi_score = []\n",
    "\n",
    "for k_aidk, v_aidk in distinct_common_paper.groupby(\"aidk\"):\n",
    "    clear_output()\n",
    "    print(k_aidk)\n",
    "\n",
    "    # Author’s Papers & Citations.\n",
    "    tac_k = rs_corpus[rs_corpus.id.isin(v_aidk['pid'])]['citation'].sum()\n",
    "    \n",
    "    # Authors’ Papers & Order of Appearance.\n",
    "    fap_k = v_aidk[v_aidk.posk==1]['posk'].count()\n",
    "    tap_k = v_aidk['posk'].nunique()\n",
    "    \n",
    "    # Author papers and their corresponding Venue’ average citations.\n",
    "    tvc_k = rs_corpus[rs_corpus.id.isin(v_aidk['pid'])]['vas'].sum()\n",
    "\n",
    "    for k_aidl, v_aidl in v_aidk.groupby(\"aidl\"):\n",
    "        \n",
    "        # Co-Author Citations based Mutual Influence\n",
    "        CACWI = Decimal((rs_corpus[rs_corpus.id.isin(v_aidl['pid'])]['citation'].sum())/tac_k)\n",
    "        \n",
    "        # Co-Author Order based Mutual Influence\n",
    "        CAOWI = Decimal(((v_aidl[v_aidl.posl==1]['posl'].count())+fap_k)/(fap_k+tap_k))\n",
    "        \n",
    "        # Co-Author Venue’s Citations Based Mutual Influence\n",
    "        CAVWI = Decimal((rs_corpus[rs_corpus.id.isin(v_aidl['pid'])]['vas'].sum())/tvc_k)\n",
    "            \n",
    "        wmi_score.append([k_aidl, k_aidk, CACWI, CAOWI, CAVWI])\n",
    "        \n",
    "print(\"saving...\")\n",
    "pd.DataFrame(wmi_score).to_csv(folder_path+'wmi-score.csv', sep=',', encoding='utf-8', header=None, index=False)\n",
    "print(\"success\")"
   ]
  },
  {
   "cell_type": "code",
   "execution_count": null,
   "metadata": {},
   "outputs": [],
   "source": [
    "wmi_score = pd.read_csv(folder_path+'wmi-score.csv', names=['aidi', 'aidj', 'CACWI', 'CAOWI', 'CAVWI'])\n",
    "group_by_aidi_wmi_score = wmi_score.groupby(\"aidi\")\n",
    "author_corpus = pd.read_json(folder_path+'author-corpus.json', orient='records', encoding='utf8', lines=True)\n",
    "author_id = author_corpus['aid'].unique().tolist()\n",
    "print(\"sucess\")"
   ]
  },
  {
   "cell_type": "code",
   "execution_count": null,
   "metadata": {},
   "outputs": [],
   "source": [
    "n = len(author_id)\n",
    "d = 0.85\n",
    "wmi_rank = []\n",
    "\n",
    "for v_aidi in author_id:\n",
    "    \n",
    "    clear_output()\n",
    "    print(v_aidi)\n",
    "    T_score = 0.0\n",
    "    vocabulary_co_author = group_by_aidi_wmi_score.get_group(v_aidi)\n",
    "    for index, v_aidj in vocabulary_co_author.iterrows():\n",
    "        \n",
    "        upper_T = (float(v_aidj.CACWI)*float(v_aidj.CAOWI)*float(v_aidj.CAVWI))\n",
    "        lower_T = 0.0\n",
    "        for index_k , v_aidk in vocabulary_co_author.iterrows():\n",
    "            \n",
    "            lower_row = wmi_score[(wmi_score.aidi == v_aidk.aidi) & (wmi_score.aidj == v_aidj.aidj)]\n",
    "            lower_T = lower_T + (float(lower_row.CACWI)*float(lower_row.CAOWI)*float(lower_row.CAVWI))\n",
    "            \n",
    "        T_score = T_score + (upper_T/(lower_T+1))\n",
    "    \n",
    "    #WMIRank = (((1-d)/n) + (d*T_score))\n",
    "    wmi_rank.append([v_aidi, (((1-d)/n) + (d*T_score))])\n",
    "    \n",
    "print(\"saving\")\n",
    "pd.DataFrame(wmi_rank).to_csv(folder_path+'wmi-rank-85.csv', sep=',', encoding='utf-8', header=None, index=False)\n",
    "print(\"success\")"
   ]
  },
  {
   "cell_type": "code",
   "execution_count": null,
   "metadata": {},
   "outputs": [],
   "source": [
    "wmi_rank = pd.read_csv(folder_path+'wmi-rank-85.csv', names=['aid', 'score'])\n",
    "wmi_rank.sort_values(by=['score'], inplace=True, ascending=False)\n",
    "wmi_rank.head()"
   ]
  },
  {
   "cell_type": "code",
   "execution_count": null,
   "metadata": {},
   "outputs": [],
   "source": [
    "author_ids = []\n",
    "author_corpus = pd.read_json(folder_path+'author-corpus.json', orient='records', encoding='utf8', lines=True)\n",
    "for ind, author in author_corpus.iterrows():\n",
    "    wmi_count = wmi_score[wmi_score.aidi==author.aid]['aidi'].nunique()\n",
    "    if wmi_count == 0:\n",
    "        author_ids.append(author.aid)\n",
    "        \n",
    "author_corpus = author_corpus[~author_corpus['aid'].isin(author_ids)]\n",
    "author_corpus.to_json(folder_path+'author-corpus.json', orient='records', lines=True)"
   ]
  },
  {
   "cell_type": "code",
   "execution_count": null,
   "metadata": {},
   "outputs": [],
   "source": [
    "wmi_score = pd.read_csv(folder_path+'wmi-rank-85.csv', names=['aid', 'score'])\n",
    "with open(folder_path+'author-corpus.json', 'r', encoding='utf8') as f:\n",
    "    author_corpus = []\n",
    "    for doc in f:\n",
    "        data = json.loads(doc)\n",
    "        if (data['n_citation']/data['n_paper']) > 15:\n",
    "            data['score'] = float(wmi_score[wmi_score.aid == data['aid']].score)*2\n",
    "        else:\n",
    "            data['score'] = float(wmi_score[wmi_score.aid == data['aid']].score)\n",
    "        del data['p_index']\n",
    "        del data['pa_index']\n",
    "        author_corpus.append(data)\n",
    "    f.close()\n",
    "author_corpus = pd.DataFrame(author_corpus)\n",
    "author_corpus.to_json(folder_path+'wmi-author-corpus.json', orient='records', lines=True)\n",
    "print(\"success\")"
   ]
  },
  {
   "cell_type": "code",
   "execution_count": null,
   "metadata": {},
   "outputs": [],
   "source": [
    "author_corpus = pd.read_json(folder_path+'wmi-author-corpus.json', orient='records', encoding='utf8', lines=True)\n",
    "author_corpus.sort_values(by=['score'], inplace=True, ascending=False)\n",
    "author_corpus = author_corpus.reset_index(drop=True)\n",
    "\n",
    "hs_score = author_corpus.score.tolist()\n",
    "minScore = min(hs_score)\n",
    "maxScore = max(hs_score)\n",
    "author_corpus_lst = []\n",
    "for k, data in author_corpus.iterrows():\n",
    "    data['n_score'] = (data.score-minScore)/(maxScore-minScore)\n",
    "    author_corpus_lst.append(data)\n",
    "\n",
    "pd.DataFrame(author_corpus_lst).to_json(folder_path+'wmi-author-corpus.json', orient='records', lines=True)\n",
    "print(\"success\")"
   ]
  }
 ],
 "metadata": {
  "kernelspec": {
   "display_name": "Python 3",
   "language": "python",
   "name": "python3"
  },
  "language_info": {
   "codemirror_mode": {
    "name": "ipython",
    "version": 3
   },
   "file_extension": ".py",
   "mimetype": "text/x-python",
   "name": "python",
   "nbconvert_exporter": "python",
   "pygments_lexer": "ipython3",
   "version": "3.7.3"
  }
 },
 "nbformat": 4,
 "nbformat_minor": 2
}
