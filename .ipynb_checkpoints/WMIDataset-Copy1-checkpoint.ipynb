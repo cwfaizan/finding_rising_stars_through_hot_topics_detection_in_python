{
 "cells": [
  {
   "cell_type": "code",
   "execution_count": null,
   "metadata": {},
   "outputs": [],
   "source": [
    "#https://nlpforhackers.io/wordnet-sentence-similarity/\n",
    "#https://realpython.com/python-csv/\n",
    "import re\n",
    "import csv\n",
    "import json\n",
    "#import ijson\n",
    "import bisect\n",
    "import gensim\n",
    "import nltk\n",
    "#import _thread\n",
    "#import threading\n",
    "#from multiprocessing import Pool\n",
    "from multiprocessing.pool import ThreadPool\n",
    "#from threading import Thread\n",
    "#import multiprocessing\n",
    "import numpy as np\n",
    "import pandas as pd\n",
    "#import matplotlib.pyplot as plt\n",
    "import itertools\n",
    "import scipy.interpolate as interpolate\n",
    "from operator import itemgetter\n",
    "from scipy import stats\n",
    "from itertools import groupby\n",
    "from collections import Counter\n",
    "#from gensim.models import LdaModel\n",
    "#from stop_words import get_stop_words\n",
    "from nltk import pos_tag\n",
    "from IPython.display import clear_output\n",
    "#from nltk.corpus import stopwords as nltk_stop_words, wordnet as wn\n",
    "#from nltk.tokenize import RegexpTokenizer\n",
    "#from nltk.stem.porter import PorterStemmer\n",
    "#from scipy.interpolate import spline\n",
    "#from sklearn.feature_extraction.text import TfidfVectorizer\n",
    "folder_path = 'D:/MS CS/RS DATA/dataset/WMIRank/'\n",
    "print(\"success\")"
   ]
  },
  {
   "cell_type": "markdown",
   "metadata": {},
   "source": [
    "### Delete extra data from rs-curpus"
   ]
  },
  {
   "cell_type": "code",
   "execution_count": null,
   "metadata": {
    "scrolled": true
   },
   "outputs": [],
   "source": [
    "rs_corpus = []\n",
    "with open(folder_path+'rs-corpus.json','r', encoding=\"utf8\") as f:\n",
    "    for doc in f:\n",
    "        data = json.loads(doc)\n",
    "        del data['abstract']\n",
    "        del data['affiliations']\n",
    "        del data['references']\n",
    "        del data['title']\n",
    "        rs_corpus.append(data)\n",
    "    f.close()\n",
    "print(\"dataset loaded...!!\")\n",
    "pd.DataFrame(rs_corpus).to_json(folder_path+'rs-corpus.json', orient='records', lines=True)\n",
    "print(\"success\")"
   ]
  },
  {
   "cell_type": "code",
   "execution_count": null,
   "metadata": {},
   "outputs": [],
   "source": [
    "rs_corpus = pd.read_json(folder_path+'rs-corpus.json', orient='records', encoding='utf8', lines=True)\n",
    "grouped_venue = rs_corpus.groupby(\"venue\")\n",
    "print(\"success\")"
   ]
  },
  {
   "cell_type": "code",
   "execution_count": null,
   "metadata": {},
   "outputs": [],
   "source": [
    "venue_average_citation = []\n",
    "venues = []\n",
    "vid = 1\n",
    "for k,v in grouped_venue:\n",
    "    venues.append([vid,k])\n",
    "    venue_average_citation.append([vid, v['citation'].mean()])\n",
    "    rs_corpus.loc[rs_corpus.venue == k, 'venue'] = vid\n",
    "    vid = vid + 1\n",
    "    \n",
    "venues = pd.DataFrame(venues)\n",
    "venues.to_csv(folder_path+'venue.csv', sep=',', encoding='utf-8', header=None, index=False)\n",
    "\n",
    "venue_average_citation = pd.DataFrame(venue_average_citation)\n",
    "venue_average_citation.to_csv(folder_path+'venue-average-citation.csv', sep=',', encoding='utf-8', header=None, index=False)\n",
    "rs_corpus.to_json(folder_path+'rs-corpus.json', orient='records', lines=True)\n",
    "print(\"success\")"
   ]
  },
  {
   "cell_type": "code",
   "execution_count": null,
   "metadata": {},
   "outputs": [],
   "source": [
    "rs_corpus = pd.read_json(folder_path+'rs-corpus.json', orient='records', encoding='utf8', lines=True)\n",
    "venue_average_citation = pd.read_csv(folder_path+'venue-average-citation.csv', names=['venue', 'citation'])"
   ]
  },
  {
   "cell_type": "code",
   "execution_count": null,
   "metadata": {},
   "outputs": [],
   "source": [
    "data = []\n",
    "for k, row in rs_corpus.iterrows():\n",
    "    row['vas'] = float(venue_average_citation[venue_average_citation.venue == row.venue]['citation'])\n",
    "    data.append(row)\n",
    "pd.DataFrame(data).to_json(folder_path+'rs-corpus.json', orient='records', lines=True)\n",
    "print(\"success\")"
   ]
  },
  {
   "cell_type": "code",
   "execution_count": null,
   "metadata": {},
   "outputs": [],
   "source": []
  }
 ],
 "metadata": {
  "kernelspec": {
   "display_name": "Python 3",
   "language": "python",
   "name": "python3"
  },
  "language_info": {
   "codemirror_mode": {
    "name": "ipython",
    "version": 3
   },
   "file_extension": ".py",
   "mimetype": "text/x-python",
   "name": "python",
   "nbconvert_exporter": "python",
   "pygments_lexer": "ipython3",
   "version": "3.7.3"
  }
 },
 "nbformat": 4,
 "nbformat_minor": 2
}
