{
 "cells": [
  {
   "cell_type": "code",
   "execution_count": 6,
   "metadata": {},
   "outputs": [
    {
     "name": "stdout",
     "output_type": "stream",
     "text": [
      "12 8\n",
      "4 8\n",
      "4 4\n",
      "4\n",
      "GCD is: 4\n"
     ]
    }
   ],
   "source": [
    "m = 12\n",
    "n = 8\n",
    "while n != 0:\n",
    "    print(m,n)\n",
    "    if m>n:\n",
    "        m = m-n\n",
    "    else:\n",
    "        n = n-m\n",
    "print(m)\n",
    "print('GCD is:',m)"
   ]
  },
  {
   "cell_type": "code",
   "execution_count": 16,
   "metadata": {},
   "outputs": [
    {
     "name": "stdout",
     "output_type": "stream",
     "text": [
      "1 -> 2\n",
      "2 -> 3\n",
      "3 -> 4\n",
      "4 -> 5\n",
      "5 -> 6\n",
      "6 -> 7\n",
      "7 -> 8\n",
      "8 -> 9\n",
      "1 -> 1\n",
      "1 -> 0\n"
     ]
    }
   ],
   "source": [
    "A = [1,2,3,4,5,6,7,8,9,10]\n",
    "#A = [10,9,8,7,6,5,4,3,2,1]\n",
    "Count = []\n",
    "S = []\n",
    "n = len(A)\n",
    "for i in range(0, n):\n",
    "    Count.append(0)\n",
    "    \n",
    "for i in range(0, n-1):\n",
    "    for j in range(i+1, n):\n",
    "        if A[j] > A[i]:\n",
    "            Count[j] = Count[j]+1\n",
    "        else:\n",
    "            Count[i] = Count[i]+1\n",
    "            #print(Count[i], Count[i]+1)\n",
    "            \n",
    "for i in range(0, n):\n",
    "    print(A[i], \"->\",Count[i])"
   ]
  }
 ],
 "metadata": {
  "kernelspec": {
   "display_name": "Python 3",
   "language": "python",
   "name": "python3"
  },
  "language_info": {
   "codemirror_mode": {
    "name": "ipython",
    "version": 3
   },
   "file_extension": ".py",
   "mimetype": "text/x-python",
   "name": "python",
   "nbconvert_exporter": "python",
   "pygments_lexer": "ipython3",
   "version": "3.6.4"
  }
 },
 "nbformat": 4,
 "nbformat_minor": 2
}
