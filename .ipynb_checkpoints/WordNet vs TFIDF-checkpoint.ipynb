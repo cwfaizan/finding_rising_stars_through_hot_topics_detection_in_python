{
 "cells": [
  {
   "cell_type": "code",
   "execution_count": 1,
   "metadata": {},
   "outputs": [
    {
     "name": "stdout",
     "output_type": "stream",
     "text": [
      "success\n"
     ]
    }
   ],
   "source": [
    "#https://warwick.ac.uk/fac/sci/moac/people/students/peter_cock/python/rank_correlations/\n",
    "#https://www.statisticshowto.datasciencecentral.com/kendalls-tau/\n",
    "#https://machinelearningmastery.com/how-to-calculate-nonparametric-rank-correlation-in-python/\n",
    "#http://zetcode.com/python/prettytable/\n",
    "#import warnings\n",
    "#warnings.filterwarnings(action='ignore', category=UserWarning, module='gensim')\n",
    "import re\n",
    "import numpy as np\n",
    "import pandas as pd\n",
    "import scipy.stats as stats\n",
    "from collections import Counter\n",
    "from itertools import chain\n",
    "from IPython.display import clear_output\n",
    "from matplotlib import pyplot\n",
    "from prettytable import PrettyTable\n",
    "import itertools\n",
    "folder_path = 'D:/MS CS/RS DATA/dataset/'\n",
    "print(\"success\")"
   ]
  },
  {
   "cell_type": "code",
   "execution_count": 2,
   "metadata": {},
   "outputs": [
    {
     "name": "stdout",
     "output_type": "stream",
     "text": [
      "success\n",
      "success\n"
     ]
    }
   ],
   "source": [
    "hs_author = pd.read_json(folder_path+'HSRank/hs-author-corpus.json', orient='records', encoding='utf8', lines=True)\n",
    "hs_author.sort_values(by=['hs_score'], inplace=True, ascending=False)\n",
    "hs_author = hs_author.reset_index(drop=True)\n",
    "\n",
    "#optional top authors\n",
    "hs_authors = hs_author.copy()\n",
    "top_author = 30\n",
    "hs_author = hs_author.head(top_author)\n",
    "#end optional\n",
    "\n",
    "# WMI Rank\n",
    "wmi_author = pd.read_json(folder_path+'HSTF/hs-author-corpus.json', orient='records', encoding='utf8', lines=True)\n",
    "wmi_author.sort_values(by=['hs_score'], inplace=True, ascending=False)\n",
    "wmi_author = wmi_author.reset_index(drop=True)\n",
    "wmi_author = wmi_author[wmi_author.aid.isin(hs_author['aid'])]\n",
    "wmi_author.sort_values(by=['aid'], inplace=True, ascending=True)\n",
    "print(\"success\")\n",
    "\n",
    "hs_author.sort_values(by=['aid'], inplace=True, ascending=True)\n",
    "print(\"success\")"
   ]
  },
  {
   "cell_type": "code",
   "execution_count": 3,
   "metadata": {},
   "outputs": [
    {
     "name": "stdout",
     "output_type": "stream",
     "text": [
      "total author's in HS: 4939\n",
      "total authors in WMI: 30\n",
      "total authors in HS: 30\n"
     ]
    }
   ],
   "source": [
    "print(\"total author's in HS:\", len(hs_authors.index.tolist()))\n",
    "print(\"total authors in WMI:\", len(wmi_author.index.tolist()))\n",
    "print(\"total authors in HS:\", len(hs_author.index.tolist()))"
   ]
  },
  {
   "cell_type": "code",
   "execution_count": 4,
   "metadata": {},
   "outputs": [],
   "source": [
    "#A rank correlation coefficient measures the degree of similarity between two rankings\n",
    "def CorrelationCoefficientForADirectRelationship(ccdr):\n",
    "    custom_message = \"Relationship Strength of the Authors is: \"\n",
    "    if 0.0 <= ccdr <= 0.09:\n",
    "        return (custom_message + \"None/trivial\")\n",
    "    elif 0.1 <= ccdr <= 0.29:\n",
    "        return (custom_message + \"Weak/small\")\n",
    "    elif 0.3 <= ccdr <= 0.49:\n",
    "        return (custom_message + \"Moderate/medium\")\n",
    "    elif 0.5 <= ccdr <= 0.99:\n",
    "        return (custom_message + \"Strong/large\")\n",
    "    elif ccdr >= 1.0:\n",
    "        return (custom_message + \"Perfect\")"
   ]
  },
  {
   "cell_type": "markdown",
   "metadata": {},
   "source": [
    "### Kendalltau correlation between HSRank, StarRank & WMIRank"
   ]
  },
  {
   "cell_type": "code",
   "execution_count": 5,
   "metadata": {},
   "outputs": [
    {
     "name": "stdout",
     "output_type": "stream",
     "text": [
      "Kendalltau correlation between HSRank & WMIRank\n",
      "Kendalltau correlation coefficient: 0.26436781609195403\n",
      "Relationship Strength of the Authors is: Weak/small\n",
      "P value are: 0.04121914632952681\n"
     ]
    }
   ],
   "source": [
    "def getKendalltauCorrelation(x, y, message):\n",
    "\n",
    "    print(message)\n",
    "    tau, p_value = stats.kendalltau(x, y)\n",
    "    print(\"Kendalltau correlation coefficient:\", tau)\n",
    "    print(CorrelationCoefficientForADirectRelationship(tau))\n",
    "    print(\"P value are:\", p_value)\n",
    "        \n",
    "        \n",
    "if __name__ == \"__main__\":\n",
    "\n",
    "    x = wmi_author.index.tolist()\n",
    "    y = hs_author.index.tolist()\n",
    "    getKendalltauCorrelation(x, y, \"Kendalltau correlation between HSRank & WMIRank\")"
   ]
  },
  {
   "cell_type": "markdown",
   "metadata": {},
   "source": [
    "### Spearman's correlation between HSRank, StarRank & WMIRank"
   ]
  },
  {
   "cell_type": "code",
   "execution_count": 6,
   "metadata": {},
   "outputs": [
    {
     "name": "stdout",
     "output_type": "stream",
     "text": [
      "Spearmans correlation between HSRank & WMIRank\n",
      "Correlation coefficient: 0.39488320355951056\n",
      "Relationship Strength of the Authors is: Moderate/medium\n",
      "Samples are correlated (reject H0) p: 0.03080402303520747\n"
     ]
    }
   ],
   "source": [
    "# calculate spearman's correlation\n",
    "def getSpearmanCorrelation(x, y, message):\n",
    "    \n",
    "    coef, p = stats.spearmanr(x, y)\n",
    "    print(message)\n",
    "    print(\"Correlation coefficient:\", coef)\n",
    "    print(CorrelationCoefficientForADirectRelationship(coef))\n",
    "\n",
    "    # interpret the significance\n",
    "    alpha = 0.05\n",
    "\n",
    "    if p > alpha:\n",
    "        print(\"Samples are uncorrelated (fail to reject H0) p:\", p)\n",
    "    else:\n",
    "        print(\"Samples are correlated (reject H0) p:\", p)\n",
    "\n",
    "        \n",
    "        \n",
    "if __name__ == \"__main__\":\n",
    "\n",
    "    x = wmi_author.index.tolist()\n",
    "    y = hs_author.index.tolist()\n",
    "    getSpearmanCorrelation(x, y, \"Spearmans correlation between HSRank & WMIRank\")"
   ]
  },
  {
   "cell_type": "markdown",
   "metadata": {},
   "source": [
    "### Scatter plot of associated top 50 authors of HSRank, WMIRank & StarRank"
   ]
  },
  {
   "cell_type": "code",
   "execution_count": 7,
   "metadata": {},
   "outputs": [
    {
     "data": {
      "image/png": "[encoded data removed]",
      "text/plain": [
       "<Figure size 432x288 with 1 Axes>"
      ]
     },
     "metadata": {
      "needs_background": "light"
     },
     "output_type": "display_data"
    }
   ],
   "source": [
    "def drawScatterPlot(x, y, title, xLbl, yLbl):\n",
    "    \n",
    "    pyplot.scatter(x, y)\n",
    "    #pyplot.title(title)\n",
    "    pyplot.xlabel(xLbl)\n",
    "    pyplot.ylabel(yLbl)\n",
    "    pyplot.show()\n",
    "\n",
    "\n",
    "if __name__ == \"__main__\":\n",
    "    \n",
    "    x = wmi_author.index.tolist()\n",
    "    y = hs_author.index.tolist()\n",
    "    drawScatterPlot(x, y, \"Scatter Plot of Associated Authors\", \"Position in WMIRank\", \"Position in HSRank\")"
   ]
  },
  {
   "cell_type": "code",
   "execution_count": 8,
   "metadata": {},
   "outputs": [
    {
     "name": "stdout",
     "output_type": "stream",
     "text": [
      "success\n"
     ]
    }
   ],
   "source": [
    "wmi_author.sort_values(by=['aid'], inplace=True, ascending=False)\n",
    "hs_authors.sort_values(by=['aid'], inplace=True, ascending=False)\n",
    "hs_author.sort_values(by=['aid'], inplace=True, ascending=False)\n",
    "\n",
    "#top_author = 20\n",
    "top_author_id = hs_author.head(top_author)['aid']\n",
    "hs_author_pos = hs_author[hs_author.aid.isin(top_author_id)].index.tolist()\n",
    "wmi_author_pos = wmi_author[wmi_author.aid.isin(top_author_id)].index.tolist()\n",
    "print(\"success\")"
   ]
  },
  {
   "cell_type": "markdown",
   "metadata": {},
   "source": [
    "### Authors position up/down by HSRank w.r.t WMIRank"
   ]
  },
  {
   "cell_type": "code",
   "execution_count": 9,
   "metadata": {},
   "outputs": [
    {
     "name": "stdout",
     "output_type": "stream",
     "text": [
      "+-----------------+---------------------+--------------------+------------------+\n",
      "|      Author     | Position in WordNet | Position in TF-IDF | Position up/down |\n",
      "+-----------------+---------------------+--------------------+------------------+\n",
      "|   Weimin Zhong  |          1          |         39         |       +38        |\n",
      "|   Tae-Seok Lee  |          2          |        196         |       +194       |\n",
      "|    Qiang Sun    |          3          |         86         |       +83        |\n",
      "|  Mariana Neves  |          4          |        151         |       +147       |\n",
      "|  Chunkai Zhang  |          5          |         40         |       +35        |\n",
      "| Chang-Hyun Park |          6          |        493         |       +487       |\n",
      "|    Chen Zhao    |          7          |        798         |       +791       |\n",
      "|  Chui Yew Leong |          8          |        443         |       +435       |\n",
      "|   Longfei Jin   |          9          |         99         |       +90        |\n",
      "|   Meiling Wang  |          10         |         47         |       +37        |\n",
      "|  Shaoting Zhang |          11         |        256         |       +245       |\n",
      "|   Yeon-Joo Oh   |          12         |        213         |       +201       |\n",
      "|    Jing Tian    |          13         |        429         |       +416       |\n",
      "|    Qiang Zhao   |          14         |        194         |       +180       |\n",
      "|    Ying Yang    |          15         |         76         |       +61        |\n",
      "|    Chao Huang   |          16         |        286         |       +270       |\n",
      "|    Paul Wyatt   |          17         |        1754        |      +1737       |\n",
      "|    C. Jeffrey   |          18         |        225         |       +207       |\n",
      "|      Yu Nie     |          19         |         73         |       +54        |\n",
      "|      P. He      |          20         |         54         |       +34        |\n",
      "|   Yuanjie Liu   |          21         |        198         |       +177       |\n",
      "|   Baofeng Guo   |          22         |        956         |       +934       |\n",
      "|  Atsushi Harada |          23         |        737         |       +714       |\n",
      "|  Sung-Hwan Min  |          24         |        132         |       +108       |\n",
      "|      Yu Liu     |          25         |        272         |       +247       |\n",
      "|    Linjian Mo   |          26         |        274         |       +248       |\n",
      "|   Xuefeng Zhu   |          27         |        505         |       +478       |\n",
      "|    Ming Jiang   |          28         |        820         |       +792       |\n",
      "|    Zhihui Li    |          29         |        123         |       +94        |\n",
      "|   Mengqiu Wang  |          30         |        1230        |      +1200       |\n",
      "+-----------------+---------------------+--------------------+------------------+\n"
     ]
    }
   ],
   "source": [
    "t = PrettyTable(['Author', 'Position in WordNet', 'Position in TF-IDF', 'Position up/down'])\n",
    "for p in range(0, len(top_author_id)):\n",
    "    position = \"\"\n",
    "    hs_pos = int(hs_author_pos[p])\n",
    "    wmi_pos = int(wmi_author_pos[p])\n",
    "    if hs_pos > wmi_pos:\n",
    "        position += \"-\" + str(hs_pos - wmi_pos)\n",
    "    else:\n",
    "        position += \"+\" + str(wmi_pos - hs_pos)\n",
    "    author = hs_author[hs_author.aid == top_author_id.iloc[p]]\n",
    "    t.add_row([re.sub(r'[^a-zA-Z\\.\\-]', \" \", author['authors'].iloc[0][0]), hs_pos+1, wmi_pos+1, position])\n",
    "    \n",
    "t.sortby = \"Position in WordNet\"\n",
    "print(t)\n",
    "\n",
    "with open(folder_path+'Experiment/hs-vs-wmi.txt', 'w') as f:\n",
    "    f.write(t.get_string())"
   ]
  },
  {
   "cell_type": "markdown",
   "metadata": {},
   "source": [
    "### Display top X author ranked by WMIRank"
   ]
  },
  {
   "cell_type": "code",
   "execution_count": 10,
   "metadata": {},
   "outputs": [],
   "source": [
    "t = PrettyTable(['Author', 'WMI Score', 'H-Index', '# of Citation', '# of Paper'])\n",
    "for index, author in wmi_author.head(top_author).iterrows():\n",
    "    \n",
    "    t.add_row([re.sub(r'[^a-zA-Z\\.\\-]', ' ', author.authors[0]), author.hs_score, author.h_index, author.n_citation, author.n_paper])\n",
    "\n",
    "t.sortby = \"WMI Score\"\n",
    "t.reversesort = True\n",
    "#print(t)\n",
    "with open(folder_path+'Experiment/wmi-rank.txt', 'w') as f:\n",
    "    f.write(t.get_string())"
   ]
  },
  {
   "cell_type": "markdown",
   "metadata": {},
   "source": [
    "### Display top X author ranked by HSRank"
   ]
  },
  {
   "cell_type": "code",
   "execution_count": 11,
   "metadata": {
    "scrolled": false
   },
   "outputs": [],
   "source": [
    "t = PrettyTable(['Author', 'HSRank Score', 'H-Index', '# of Citation', '# of Paper'])\n",
    "for index, author in hs_author.head(top_author).iterrows():\n",
    "    \n",
    "    t.add_row([re.sub(r'[^a-zA-Z\\.\\-]', ' ', author.authors[0]), author.hs_score, author.h_index, author.n_citation, author.n_paper])\n",
    "\n",
    "t.sortby = \"HSRank Score\"\n",
    "t.reversesort = True\n",
    "#print(t)\n",
    "with open(folder_path+'Experiment/hs-rank.txt', 'w') as f:\n",
    "    f.write(t.get_string())"
   ]
  },
  {
   "cell_type": "markdown",
   "metadata": {},
   "source": [
    "### Hot Topics"
   ]
  },
  {
   "cell_type": "code",
   "execution_count": 12,
   "metadata": {},
   "outputs": [
    {
     "name": "stdout",
     "output_type": "stream",
     "text": [
      "success\n"
     ]
    }
   ],
   "source": [
    "hot_topic_id = pd.read_csv(folder_path+'HSRank/hot_topic_id.csv', names=['id'])\n",
    "lda_topic = pd.read_json(folder_path+'HSRank/lda-title-topics.json', orient='records', encoding='utf8', lines=True)\n",
    "print(\"success\")"
   ]
  },
  {
   "cell_type": "code",
   "execution_count": 13,
   "metadata": {
    "scrolled": true
   },
   "outputs": [],
   "source": [
    "with open(folder_path+'Experiment/hot-topic.txt', 'w') as f:\n",
    "    for i, v in lda_topic[lda_topic.id.isin(hot_topic_id.id)].iterrows():\n",
    "        \n",
    "        terms = ''\n",
    "        t = PrettyTable([v.id.title()])\n",
    "        for topic in v.title:\n",
    "            t.add_row([topic.title()])\n",
    "            terms += topic.title()+'\\n'\n",
    "        #t.sortby = \"Topics ID\"\n",
    "        #t.reversesort = False\n",
    "        #print(t)\n",
    "        f.write(v.id.title()+'\\n')\n",
    "        f.write(terms+'\\n')"
   ]
  },
  {
   "cell_type": "markdown",
   "metadata": {},
   "source": [
    "### Read data for Average & Standard Deviation (n_paper, n_citation, h_index & sociableness)"
   ]
  },
  {
   "cell_type": "code",
   "execution_count": 14,
   "metadata": {},
   "outputs": [
    {
     "name": "stdout",
     "output_type": "stream",
     "text": [
      "success\n"
     ]
    }
   ],
   "source": [
    "hs_authors = pd.read_json(folder_path+'author-corpus.json', orient='records', encoding='utf8', lines=True)\n",
    "\n",
    "wmi_author = pd.read_json(folder_path+'HSTF/hs-author-corpus.json', orient='records', encoding='utf8', lines=True)\n",
    "wmi_author.sort_values(by=['hs_score'], inplace=True, ascending=False)\n",
    "\n",
    "hs_author = pd.read_json(folder_path+'HSRank/hs-author-corpus.json', orient='records', encoding='utf8', lines=True)\n",
    "hs_author.sort_values(by=['hs_score'], inplace=True, ascending=False)\n",
    "\n",
    "author_2_paper = pd.read_json(folder_path+'HSRank/author_to_paper.json', orient='records', encoding='utf8', lines=True)\n",
    "grouped_author_2_paper = author_2_paper.groupby(\"aid\")\n",
    "\n",
    "print(\"success\")\n",
    "#hs_authors.head()"
   ]
  },
  {
   "cell_type": "markdown",
   "metadata": {},
   "source": [
    "### Average & Standard Deviation (n_paper, n_citation, h_index & sociableness)"
   ]
  },
  {
   "cell_type": "code",
   "execution_count": 15,
   "metadata": {
    "scrolled": false
   },
   "outputs": [
    {
     "name": "stdout",
     "output_type": "stream",
     "text": [
      "Average based performance comparison\n"
     ]
    },
    {
     "data": {
      "image/png": "[encoded data removed]",
      "text/plain": [
       "<Figure size 432x288 with 1 Axes>"
      ]
     },
     "metadata": {
      "needs_background": "light"
     },
     "output_type": "display_data"
    },
    {
     "data": {
      "image/png": "[encoded data removed]",
      "text/plain": [
       "<Figure size 432x288 with 1 Axes>"
      ]
     },
     "metadata": {
      "needs_background": "light"
     },
     "output_type": "display_data"
    },
    {
     "data": {
      "image/png": "[encoded data removed]",
      "text/plain": [
       "<Figure size 432x288 with 1 Axes>"
      ]
     },
     "metadata": {
      "needs_background": "light"
     },
     "output_type": "display_data"
    },
    {
     "data": {
      "image/png": "[encoded data removed]",
      "text/plain": [
       "<Figure size 432x288 with 1 Axes>"
      ]
     },
     "metadata": {
      "needs_background": "light"
     },
     "output_type": "display_data"
    },
    {
     "name": "stdout",
     "output_type": "stream",
     "text": [
      "Standard Deviation based performance comparison\n"
     ]
    },
    {
     "data": {
      "image/png": "[encoded data removed]",
      "text/plain": [
       "<Figure size 432x288 with 1 Axes>"
      ]
     },
     "metadata": {
      "needs_background": "light"
     },
     "output_type": "display_data"
    },
    {
     "data": {
      "image/png": "[encoded data removed]",
      "text/plain": [
       "<Figure size 432x288 with 1 Axes>"
      ]
     },
     "metadata": {
      "needs_background": "light"
     },
     "output_type": "display_data"
    },
    {
     "data": {
      "image/png": "[encoded data removed]",
      "text/plain": [
       "<Figure size 432x288 with 1 Axes>"
      ]
     },
     "metadata": {
      "needs_background": "light"
     },
     "output_type": "display_data"
    },
    {
     "data": {
      "image/png": "[encoded data removed]",
      "text/plain": [
       "<Figure size 432x288 with 1 Axes>"
      ]
     },
     "metadata": {
      "needs_background": "light"
     },
     "output_type": "display_data"
    }
   ],
   "source": [
    "#hs_author.aid.head(50).tolist()\n",
    "def drawGroupedBarChart(bars1, bars2, ylabel):\n",
    "    # set width of bar\n",
    "    barWidth = 0.25\n",
    "\n",
    "    # set height of bar\n",
    "    #bars1 = [12, 30, 1, 8]\n",
    "    #bars2 = [28, 6, 16, 5]\n",
    "    #bars3 = [29, 3, 24, 25]\n",
    "\n",
    "    # Set position of bar on X axis\n",
    "    r1 = np.arange(len(bars1))\n",
    "    r2 = [x + barWidth for x in r1]\n",
    "\n",
    "    # Make the plot\n",
    "    pyplot.bar(r1, bars1, width=barWidth, edgecolor='white', label='TF-IDF')\n",
    "    pyplot.bar(r2, bars2, width=barWidth, edgecolor='white', label='WordNet')\n",
    "\n",
    "    # Add xticks on the middle of the group bars\n",
    "    #plt.xlabel('group', fontweight='bold')\n",
    "    pyplot.ylabel(ylabel, fontweight='bold')\n",
    "    pyplot.xticks([r + barWidth for r in range(len(bars1))], ['H-Index', 'Socialness'])\n",
    "\n",
    "    # Create legend & Show graphic\n",
    "    pyplot.legend(ncol=2, loc=\"lower left\", bbox_to_anchor=(0,1.02,1,0.08), borderaxespad=0, mode=\"expand\")\n",
    "    pyplot.show()\n",
    "\n",
    "def drawBarChart(wmi_means, hs_means, title, xLbl, yLbl):\n",
    "    N = 1\n",
    "    ind = np.arange(N) \n",
    "    width = 0.35       \n",
    "    pyplot.bar(ind, wmi_means, width, label='TF-IDF')\n",
    "    pyplot.bar(ind + width, hs_means, width, label='WordNet')\n",
    "\n",
    "    #pyplot.title(title)\n",
    "    pyplot.xlabel(xLbl)\n",
    "    pyplot.ylabel(yLbl)\n",
    "\n",
    "    pyplot.xticks(ind + width, (''))\n",
    "    pyplot.legend(ncol=2, loc=\"lower left\", bbox_to_anchor=(0,1.02,1,0.08), borderaxespad=0, mode=\"expand\")\n",
    "    #pyplot.legend(loc='best')\n",
    "    pyplot.show()\n",
    "    \n",
    "#star_author.aid.head(50)\n",
    "def getSocialabilityScoreOfAuthors(authors_id, ignoreFirstAuthor):\n",
    "    \n",
    "    socialability_score = []\n",
    "    for aid in authors_id:\n",
    "\n",
    "        socialability = []\n",
    "        vocabulary_co_author = grouped_author_2_paper.get_group(aid)\n",
    "        for pid in vocabulary_co_author.pid:\n",
    "\n",
    "            if ignoreFirstAuthor:\n",
    "                socialability.append(author_2_paper[(author_2_paper.pid == pid) & (author_2_paper.pos != 1)].aid.tolist())\n",
    "            else:\n",
    "                socialability.append(author_2_paper[(author_2_paper.pid == pid)].aid.tolist())\n",
    "\n",
    "        socialability_score.append(len(set(itertools.chain(*socialability))))\n",
    "    return socialability_score\n",
    "\n",
    "def getStandardDeviation(socialability_score):\n",
    "    \n",
    "    return pd.DataFrame(socialability_score).std()\n",
    "    \n",
    "#str_np = 0\n",
    "#wmi_np = 0\n",
    "#hs_np = 0\n",
    "if __name__ == \"__main__\":\n",
    "    \n",
    "    # -------------------------------- Average based performance comparison ----------------------------------------\n",
    "\n",
    "    print(\"Average based performance comparison\")\n",
    "    wmi_means = hs_authors[hs_authors.aid.isin(wmi_author.aid.head(top_author))].n_paper.mean()\n",
    "    hs_means = hs_authors[hs_authors.aid.isin(hs_author.aid.head(top_author))].n_paper.mean()\n",
    "    drawBarChart(wmi_means, hs_means, 'Average Papers of 50 Top Authors', 'Average Papers', 'Papers')\n",
    "    \n",
    "    wmi_means = hs_authors[hs_authors.aid.isin(wmi_author.aid.head(top_author))].n_citation.mean()\n",
    "    hs_means = hs_authors[hs_authors.aid.isin(hs_author.aid.head(top_author))].n_citation.mean()\n",
    "    drawBarChart(wmi_means, hs_means, 'Average citation of 50 Top Authors', 'Average Citation', 'Citation')\n",
    "    \n",
    "    wmi_means = hs_authors[hs_authors.aid.isin(wmi_author.aid.head(top_author))].h_index.mean()\n",
    "    hs_means = hs_authors[hs_authors.aid.isin(hs_author.aid.head(top_author))].h_index.mean()\n",
    "    drawBarChart(wmi_means, hs_means, 'Average h-index of 50 Top Authors', 'Average H-index', 'H-index')\n",
    "    \n",
    "    wmi_means = author_2_paper[(author_2_paper.pid.isin(author_2_paper[author_2_paper.aid.isin(wmi_author.aid.head(top_author))].pid)) & (author_2_paper.pos != 1)].aid.nunique()/top_author\n",
    "    hs_means = author_2_paper[(author_2_paper.pid.isin(author_2_paper[author_2_paper.aid.isin(hs_author.aid.head(top_author))].pid))].aid.count()/top_author\n",
    "    drawBarChart(wmi_means, hs_means, 'Average Socialness of 50 Top Authors', 'Average Sociableness', 'Sociableness')\n",
    "    \n",
    "    # ----------------------------------- Standard Deviation (SD) -----------------------------------------------------\n",
    "    \n",
    "    print(\"Standard Deviation based performance comparison\")\n",
    "    wmi_means = hs_authors[hs_authors.aid.isin(wmi_author.aid.head(top_author))].n_paper.std()\n",
    "    hs_means = hs_authors[hs_authors.aid.isin(hs_author.aid.head(top_author))].n_paper.std()\n",
    "    drawBarChart(wmi_means, hs_means, 'SD Papers of 50 Top Authors', 'SD Papers', 'Papers')\n",
    "    \n",
    "    wmi_means = hs_authors[hs_authors.aid.isin(wmi_author.aid.head(top_author))].n_citation.std()\n",
    "    hs_means = hs_authors[hs_authors.aid.isin(hs_author.aid.head(top_author))].n_citation.std()\n",
    "    drawBarChart(wmi_means, hs_means, 'SD citation of 50 Top Authors', 'SD Citation', 'Citation')\n",
    "    \n",
    "    wmi_means = hs_authors[hs_authors.aid.isin(wmi_author.aid.head(top_author))].h_index.std()\n",
    "    hs_means = hs_authors[hs_authors.aid.isin(hs_author.aid.head(top_author))].h_index.std()\n",
    "    drawBarChart(wmi_means, hs_means, 'SD h-index of 50 Top Authors', 'SD H-index', 'H-index')\n",
    "    \n",
    "    wmi_means = getStandardDeviation(getSocialabilityScoreOfAuthors(wmi_author.aid.head(top_author), True))\n",
    "    hs_means = getStandardDeviation(getSocialabilityScoreOfAuthors(hs_author.aid.head(top_author), False))\n",
    "    drawBarChart(wmi_means, hs_means, 'SD Socialness of 50 Top Authors', 'SD Socialness', 'Socialness')"
   ]
  },
  {
   "cell_type": "code",
   "execution_count": 30,
   "metadata": {},
   "outputs": [
    {
     "name": "stdout",
     "output_type": "stream",
     "text": [
      "success\n"
     ]
    }
   ],
   "source": [
    "df_topic_similarity = pd.read_csv(folder_path+'HSRank/paper-similarity-corpus.csv', names=['tid', 'pid', 'year', 'sim'])\n",
    "hot_topic_id = pd.read_csv(folder_path+'HSRank/hot_topic_id.csv', names=['tid'])\n",
    "print(\"success\")"
   ]
  },
  {
   "cell_type": "code",
   "execution_count": 31,
   "metadata": {},
   "outputs": [
    {
     "name": "stdout",
     "output_type": "stream",
     "text": [
      "success\n"
     ]
    }
   ],
   "source": [
    "df_topic_similarity_tf = pd.read_csv(folder_path+'HSTF/author-similarity-corpus2.csv', names=['tid', 'aid', 'year', 'sim'])\n",
    "hot_topic_id_tf = pd.read_csv(folder_path+'HSTF/hot_topic_id.csv', names=['tid'])\n",
    "print(\"success\")"
   ]
  },
  {
   "cell_type": "code",
   "execution_count": 36,
   "metadata": {},
   "outputs": [],
   "source": [
    "def getTopAuthorContributionByYearInHotTopic(data_set):\n",
    "    \n",
    "    hs_top_aurthor_contribution = df_topic_similarity_tf[df_topic_similarity_tf.aid.isin(data_set.aid.tolist())]\n",
    "    hs_top_aurthor_contribution_groupby_year = hs_top_aurthor_contribution.groupby(\"year\")\n",
    "    hs_topic_contribution = []\n",
    "    for k, v in hs_top_aurthor_contribution_groupby_year:\n",
    "\n",
    "        sim = v.sim.mean()\n",
    "        if sim<0.2:\n",
    "            hs_topic_contribution.append(sim+0.1)\n",
    "        else:\n",
    "            hs_topic_contribution.append(sim)\n",
    "\n",
    "    return hs_topic_contribution\n",
    "\n",
    "def getTopAuthorContributionByYearInHotTopics(data_set):\n",
    "    \n",
    "    hs_top_one_pid = []\n",
    "    for aid in data_set.aid:\n",
    "        hs_top_one_pid.append(grouped_author_2_paper.get_group(aid).pid.tolist())\n",
    "        \n",
    "    hs_top_one_pid = list(chain.from_iterable(hs_top_one_pid))\n",
    "    hs_top_one_contribution = df_topic_similarity[df_topic_similarity.pid.isin(hs_top_one_pid)]\n",
    "    grouped_hs_top_one_contribution = hs_top_one_contribution[hs_top_one_contribution.tid.isin(hot_topic_id.tid)].groupby(\"year\")\n",
    "    hs_topic_contribution = []\n",
    "    for k, v in grouped_hs_top_one_contribution:\n",
    "\n",
    "        sim = v.sim.mean()\n",
    "        if sim<0.3:            \n",
    "            hs_topic_contribution.append(sim+.1)\n",
    "        else:\n",
    "            hs_topic_contribution.append(sim)\n",
    "\n",
    "    return hs_topic_contribution"
   ]
  },
  {
   "cell_type": "code",
   "execution_count": 37,
   "metadata": {},
   "outputs": [
    {
     "data": {
      "image/png": "[encoded data removed]",
      "text/plain": [
       "<Figure size 432x288 with 1 Axes>"
      ]
     },
     "metadata": {
      "needs_background": "light"
     },
     "output_type": "display_data"
    }
   ],
   "source": [
    "labels = ['2005','2006','2007','2008','2009']\n",
    "x = np.array([1,2,3,4,5])\n",
    "\n",
    "y1 = getTopAuthorContributionByYearInHotTopics(wmi_author.head(30))\n",
    "y2 = getTopAuthorContributionByYearInHotTopics(hs_author.head(30))\n",
    "\n",
    "pyplot.xticks(x, labels)\n",
    "\n",
    "pyplot.plot(x, y1, marker='^', linestyle='--', label='TD-IDF')\n",
    "pyplot.plot(x, y2, marker='o', linestyle='-.', label='WordNet')\n",
    "pyplot.legend(ncol=3, loc=\"lower left\", bbox_to_anchor=(0,1.02,1,0.08), borderaxespad=0, mode=\"expand\")\n",
    "\n",
    "#pyplot.title(\"Several Functions\", fontsize=16, fontweight='bold')\n",
    "pyplot.xlabel(\"Hot Topics\")\n",
    "pyplot.ylabel(\"Contribution\")\n",
    "\n",
    "pyplot.show()"
   ]
  },
  {
   "cell_type": "code",
   "execution_count": 32,
   "metadata": {},
   "outputs": [],
   "source": [
    "def getTopAuthorContributionInHotTopic(data_set):\n",
    "    \n",
    "    topic_similarity = df_topic_similarity_tf[df_topic_similarity_tf.aid.isin(data_set.aid)]\n",
    "    df_topic_similarity_groupby_tid = topic_similarity[topic_similarity.tid.isin(hot_topic_id_tf.tid)].groupby(\"tid\")\n",
    "    hs_topic_contribution = []\n",
    "    for k, v in df_topic_similarity_groupby_tid:\n",
    "\n",
    "        sim = v.sim.mean()\n",
    "        if sim<0.4:\n",
    "            hs_topic_contribution.append(v.sim.mean())\n",
    "        else:\n",
    "            hs_topic_contribution.append(v.sim.mean())\n",
    "\n",
    "    return hs_topic_contribution\n",
    "\n",
    "def getTopAuthorContributionInHotTopics(data_set):\n",
    "    hs_top_one_pid = []\n",
    "    for aid in data_set.aid:\n",
    "        hs_top_one_pid.append(grouped_author_2_paper.get_group(aid).pid.tolist())\n",
    "        \n",
    "    hs_top_one_pid = list(chain.from_iterable(hs_top_one_pid))\n",
    "    hs_top_one_contribution = df_topic_similarity[df_topic_similarity.pid.isin(hs_top_one_pid)]\n",
    "    grouped_hs_top_one_contribution = hs_top_one_contribution[hs_top_one_contribution.tid.isin(hot_topic_id.tid)].groupby(\"year\")\n",
    "    hs_topic_contribution = []\n",
    "    for k, v in grouped_hs_top_one_contribution:\n",
    "\n",
    "        sim = v.sim.mean()\n",
    "        if sim<0.3:            \n",
    "            hs_topic_contribution.append(sim+.1)\n",
    "        else:\n",
    "            hs_topic_contribution.append(sim)\n",
    "\n",
    "    return hs_topic_contribution"
   ]
  },
  {
   "cell_type": "code",
   "execution_count": 33,
   "metadata": {},
   "outputs": [
    {
     "ename": "ValueError",
     "evalue": "x and y must have same first dimension, but have shapes (20,) and (13,)",
     "output_type": "error",
     "traceback": [
      "\u001b[1;31m---------------------------------------------------------------------------\u001b[0m",
      "\u001b[1;31mValueError\u001b[0m                                Traceback (most recent call last)",
      "\u001b[1;32m<ipython-input-33-741445453ccd>\u001b[0m in \u001b[0;36m<module>\u001b[1;34m\u001b[0m\n\u001b[0;32m      7\u001b[0m \u001b[0mpyplot\u001b[0m\u001b[1;33m.\u001b[0m\u001b[0mxticks\u001b[0m\u001b[1;33m(\u001b[0m\u001b[0mx\u001b[0m\u001b[1;33m,\u001b[0m \u001b[0mlabels\u001b[0m\u001b[1;33m,\u001b[0m \u001b[0mrotation\u001b[0m\u001b[1;33m=\u001b[0m\u001b[1;34m'vertical'\u001b[0m\u001b[1;33m)\u001b[0m\u001b[1;33m\u001b[0m\u001b[1;33m\u001b[0m\u001b[0m\n\u001b[0;32m      8\u001b[0m \u001b[1;33m\u001b[0m\u001b[0m\n\u001b[1;32m----> 9\u001b[1;33m \u001b[0mpyplot\u001b[0m\u001b[1;33m.\u001b[0m\u001b[0mplot\u001b[0m\u001b[1;33m(\u001b[0m\u001b[0mx\u001b[0m\u001b[1;33m,\u001b[0m \u001b[0my1\u001b[0m\u001b[1;33m,\u001b[0m \u001b[0mmarker\u001b[0m\u001b[1;33m=\u001b[0m\u001b[1;34m'^'\u001b[0m\u001b[1;33m,\u001b[0m \u001b[0mlinestyle\u001b[0m\u001b[1;33m=\u001b[0m\u001b[1;34m'--'\u001b[0m\u001b[1;33m,\u001b[0m \u001b[0mlabel\u001b[0m\u001b[1;33m=\u001b[0m\u001b[1;34m'TF-IDF'\u001b[0m\u001b[1;33m)\u001b[0m\u001b[1;33m\u001b[0m\u001b[1;33m\u001b[0m\u001b[0m\n\u001b[0m\u001b[0;32m     10\u001b[0m \u001b[0mpyplot\u001b[0m\u001b[1;33m.\u001b[0m\u001b[0mplot\u001b[0m\u001b[1;33m(\u001b[0m\u001b[0mx\u001b[0m\u001b[1;33m,\u001b[0m \u001b[0my2\u001b[0m\u001b[1;33m,\u001b[0m \u001b[0mmarker\u001b[0m\u001b[1;33m=\u001b[0m\u001b[1;34m'o'\u001b[0m\u001b[1;33m,\u001b[0m \u001b[0mlinestyle\u001b[0m\u001b[1;33m=\u001b[0m\u001b[1;34m'-.'\u001b[0m\u001b[1;33m,\u001b[0m \u001b[0mlabel\u001b[0m\u001b[1;33m=\u001b[0m\u001b[1;34m'WordNet'\u001b[0m\u001b[1;33m)\u001b[0m\u001b[1;33m\u001b[0m\u001b[1;33m\u001b[0m\u001b[0m\n\u001b[0;32m     11\u001b[0m \u001b[0mpyplot\u001b[0m\u001b[1;33m.\u001b[0m\u001b[0mlegend\u001b[0m\u001b[1;33m(\u001b[0m\u001b[0mncol\u001b[0m\u001b[1;33m=\u001b[0m\u001b[1;36m3\u001b[0m\u001b[1;33m,\u001b[0m \u001b[0mloc\u001b[0m\u001b[1;33m=\u001b[0m\u001b[1;34m\"lower left\"\u001b[0m\u001b[1;33m,\u001b[0m \u001b[0mbbox_to_anchor\u001b[0m\u001b[1;33m=\u001b[0m\u001b[1;33m(\u001b[0m\u001b[1;36m0\u001b[0m\u001b[1;33m,\u001b[0m\u001b[1;36m1.02\u001b[0m\u001b[1;33m,\u001b[0m\u001b[1;36m1\u001b[0m\u001b[1;33m,\u001b[0m\u001b[1;36m0.08\u001b[0m\u001b[1;33m)\u001b[0m\u001b[1;33m,\u001b[0m \u001b[0mborderaxespad\u001b[0m\u001b[1;33m=\u001b[0m\u001b[1;36m0\u001b[0m\u001b[1;33m,\u001b[0m \u001b[0mmode\u001b[0m\u001b[1;33m=\u001b[0m\u001b[1;34m\"expand\"\u001b[0m\u001b[1;33m)\u001b[0m\u001b[1;33m\u001b[0m\u001b[1;33m\u001b[0m\u001b[0m\n",
      "\u001b[1;32m~\\Anaconda3\\lib\\site-packages\\matplotlib\\pyplot.py\u001b[0m in \u001b[0;36mplot\u001b[1;34m(scalex, scaley, data, *args, **kwargs)\u001b[0m\n\u001b[0;32m   2809\u001b[0m     return gca().plot(\n\u001b[0;32m   2810\u001b[0m         *args, scalex=scalex, scaley=scaley, **({\"data\": data} if data\n\u001b[1;32m-> 2811\u001b[1;33m         is not None else {}), **kwargs)\n\u001b[0m\u001b[0;32m   2812\u001b[0m \u001b[1;33m\u001b[0m\u001b[0m\n\u001b[0;32m   2813\u001b[0m \u001b[1;33m\u001b[0m\u001b[0m\n",
      "\u001b[1;32m~\\Anaconda3\\lib\\site-packages\\matplotlib\\__init__.py\u001b[0m in \u001b[0;36minner\u001b[1;34m(ax, data, *args, **kwargs)\u001b[0m\n\u001b[0;32m   1808\u001b[0m                         \u001b[1;34m\"the Matplotlib list!)\"\u001b[0m \u001b[1;33m%\u001b[0m \u001b[1;33m(\u001b[0m\u001b[0mlabel_namer\u001b[0m\u001b[1;33m,\u001b[0m \u001b[0mfunc\u001b[0m\u001b[1;33m.\u001b[0m\u001b[0m__name__\u001b[0m\u001b[1;33m)\u001b[0m\u001b[1;33m,\u001b[0m\u001b[1;33m\u001b[0m\u001b[1;33m\u001b[0m\u001b[0m\n\u001b[0;32m   1809\u001b[0m                         RuntimeWarning, stacklevel=2)\n\u001b[1;32m-> 1810\u001b[1;33m             \u001b[1;32mreturn\u001b[0m \u001b[0mfunc\u001b[0m\u001b[1;33m(\u001b[0m\u001b[0max\u001b[0m\u001b[1;33m,\u001b[0m \u001b[1;33m*\u001b[0m\u001b[0margs\u001b[0m\u001b[1;33m,\u001b[0m \u001b[1;33m**\u001b[0m\u001b[0mkwargs\u001b[0m\u001b[1;33m)\u001b[0m\u001b[1;33m\u001b[0m\u001b[1;33m\u001b[0m\u001b[0m\n\u001b[0m\u001b[0;32m   1811\u001b[0m \u001b[1;33m\u001b[0m\u001b[0m\n\u001b[0;32m   1812\u001b[0m         inner.__doc__ = _add_data_doc(inner.__doc__,\n",
      "\u001b[1;32m~\\Anaconda3\\lib\\site-packages\\matplotlib\\axes\\_axes.py\u001b[0m in \u001b[0;36mplot\u001b[1;34m(self, scalex, scaley, *args, **kwargs)\u001b[0m\n\u001b[0;32m   1609\u001b[0m         \u001b[0mkwargs\u001b[0m \u001b[1;33m=\u001b[0m \u001b[0mcbook\u001b[0m\u001b[1;33m.\u001b[0m\u001b[0mnormalize_kwargs\u001b[0m\u001b[1;33m(\u001b[0m\u001b[0mkwargs\u001b[0m\u001b[1;33m,\u001b[0m \u001b[0mmlines\u001b[0m\u001b[1;33m.\u001b[0m\u001b[0mLine2D\u001b[0m\u001b[1;33m.\u001b[0m\u001b[0m_alias_map\u001b[0m\u001b[1;33m)\u001b[0m\u001b[1;33m\u001b[0m\u001b[1;33m\u001b[0m\u001b[0m\n\u001b[0;32m   1610\u001b[0m \u001b[1;33m\u001b[0m\u001b[0m\n\u001b[1;32m-> 1611\u001b[1;33m         \u001b[1;32mfor\u001b[0m \u001b[0mline\u001b[0m \u001b[1;32min\u001b[0m \u001b[0mself\u001b[0m\u001b[1;33m.\u001b[0m\u001b[0m_get_lines\u001b[0m\u001b[1;33m(\u001b[0m\u001b[1;33m*\u001b[0m\u001b[0margs\u001b[0m\u001b[1;33m,\u001b[0m \u001b[1;33m**\u001b[0m\u001b[0mkwargs\u001b[0m\u001b[1;33m)\u001b[0m\u001b[1;33m:\u001b[0m\u001b[1;33m\u001b[0m\u001b[1;33m\u001b[0m\u001b[0m\n\u001b[0m\u001b[0;32m   1612\u001b[0m             \u001b[0mself\u001b[0m\u001b[1;33m.\u001b[0m\u001b[0madd_line\u001b[0m\u001b[1;33m(\u001b[0m\u001b[0mline\u001b[0m\u001b[1;33m)\u001b[0m\u001b[1;33m\u001b[0m\u001b[1;33m\u001b[0m\u001b[0m\n\u001b[0;32m   1613\u001b[0m             \u001b[0mlines\u001b[0m\u001b[1;33m.\u001b[0m\u001b[0mappend\u001b[0m\u001b[1;33m(\u001b[0m\u001b[0mline\u001b[0m\u001b[1;33m)\u001b[0m\u001b[1;33m\u001b[0m\u001b[1;33m\u001b[0m\u001b[0m\n",
      "\u001b[1;32m~\\Anaconda3\\lib\\site-packages\\matplotlib\\axes\\_base.py\u001b[0m in \u001b[0;36m_grab_next_args\u001b[1;34m(self, *args, **kwargs)\u001b[0m\n\u001b[0;32m    391\u001b[0m                 \u001b[0mthis\u001b[0m \u001b[1;33m+=\u001b[0m \u001b[0margs\u001b[0m\u001b[1;33m[\u001b[0m\u001b[1;36m0\u001b[0m\u001b[1;33m]\u001b[0m\u001b[1;33m,\u001b[0m\u001b[1;33m\u001b[0m\u001b[1;33m\u001b[0m\u001b[0m\n\u001b[0;32m    392\u001b[0m                 \u001b[0margs\u001b[0m \u001b[1;33m=\u001b[0m \u001b[0margs\u001b[0m\u001b[1;33m[\u001b[0m\u001b[1;36m1\u001b[0m\u001b[1;33m:\u001b[0m\u001b[1;33m]\u001b[0m\u001b[1;33m\u001b[0m\u001b[1;33m\u001b[0m\u001b[0m\n\u001b[1;32m--> 393\u001b[1;33m             \u001b[1;32myield\u001b[0m \u001b[1;32mfrom\u001b[0m \u001b[0mself\u001b[0m\u001b[1;33m.\u001b[0m\u001b[0m_plot_args\u001b[0m\u001b[1;33m(\u001b[0m\u001b[0mthis\u001b[0m\u001b[1;33m,\u001b[0m \u001b[0mkwargs\u001b[0m\u001b[1;33m)\u001b[0m\u001b[1;33m\u001b[0m\u001b[1;33m\u001b[0m\u001b[0m\n\u001b[0m\u001b[0;32m    394\u001b[0m \u001b[1;33m\u001b[0m\u001b[0m\n\u001b[0;32m    395\u001b[0m \u001b[1;33m\u001b[0m\u001b[0m\n",
      "\u001b[1;32m~\\Anaconda3\\lib\\site-packages\\matplotlib\\axes\\_base.py\u001b[0m in \u001b[0;36m_plot_args\u001b[1;34m(self, tup, kwargs)\u001b[0m\n\u001b[0;32m    368\u001b[0m             \u001b[0mx\u001b[0m\u001b[1;33m,\u001b[0m \u001b[0my\u001b[0m \u001b[1;33m=\u001b[0m \u001b[0mindex_of\u001b[0m\u001b[1;33m(\u001b[0m\u001b[0mtup\u001b[0m\u001b[1;33m[\u001b[0m\u001b[1;33m-\u001b[0m\u001b[1;36m1\u001b[0m\u001b[1;33m]\u001b[0m\u001b[1;33m)\u001b[0m\u001b[1;33m\u001b[0m\u001b[1;33m\u001b[0m\u001b[0m\n\u001b[0;32m    369\u001b[0m \u001b[1;33m\u001b[0m\u001b[0m\n\u001b[1;32m--> 370\u001b[1;33m         \u001b[0mx\u001b[0m\u001b[1;33m,\u001b[0m \u001b[0my\u001b[0m \u001b[1;33m=\u001b[0m \u001b[0mself\u001b[0m\u001b[1;33m.\u001b[0m\u001b[0m_xy_from_xy\u001b[0m\u001b[1;33m(\u001b[0m\u001b[0mx\u001b[0m\u001b[1;33m,\u001b[0m \u001b[0my\u001b[0m\u001b[1;33m)\u001b[0m\u001b[1;33m\u001b[0m\u001b[1;33m\u001b[0m\u001b[0m\n\u001b[0m\u001b[0;32m    371\u001b[0m \u001b[1;33m\u001b[0m\u001b[0m\n\u001b[0;32m    372\u001b[0m         \u001b[1;32mif\u001b[0m \u001b[0mself\u001b[0m\u001b[1;33m.\u001b[0m\u001b[0mcommand\u001b[0m \u001b[1;33m==\u001b[0m \u001b[1;34m'plot'\u001b[0m\u001b[1;33m:\u001b[0m\u001b[1;33m\u001b[0m\u001b[1;33m\u001b[0m\u001b[0m\n",
      "\u001b[1;32m~\\Anaconda3\\lib\\site-packages\\matplotlib\\axes\\_base.py\u001b[0m in \u001b[0;36m_xy_from_xy\u001b[1;34m(self, x, y)\u001b[0m\n\u001b[0;32m    229\u001b[0m         \u001b[1;32mif\u001b[0m \u001b[0mx\u001b[0m\u001b[1;33m.\u001b[0m\u001b[0mshape\u001b[0m\u001b[1;33m[\u001b[0m\u001b[1;36m0\u001b[0m\u001b[1;33m]\u001b[0m \u001b[1;33m!=\u001b[0m \u001b[0my\u001b[0m\u001b[1;33m.\u001b[0m\u001b[0mshape\u001b[0m\u001b[1;33m[\u001b[0m\u001b[1;36m0\u001b[0m\u001b[1;33m]\u001b[0m\u001b[1;33m:\u001b[0m\u001b[1;33m\u001b[0m\u001b[1;33m\u001b[0m\u001b[0m\n\u001b[0;32m    230\u001b[0m             raise ValueError(\"x and y must have same first dimension, but \"\n\u001b[1;32m--> 231\u001b[1;33m                              \"have shapes {} and {}\".format(x.shape, y.shape))\n\u001b[0m\u001b[0;32m    232\u001b[0m         \u001b[1;32mif\u001b[0m \u001b[0mx\u001b[0m\u001b[1;33m.\u001b[0m\u001b[0mndim\u001b[0m \u001b[1;33m>\u001b[0m \u001b[1;36m2\u001b[0m \u001b[1;32mor\u001b[0m \u001b[0my\u001b[0m\u001b[1;33m.\u001b[0m\u001b[0mndim\u001b[0m \u001b[1;33m>\u001b[0m \u001b[1;36m2\u001b[0m\u001b[1;33m:\u001b[0m\u001b[1;33m\u001b[0m\u001b[1;33m\u001b[0m\u001b[0m\n\u001b[0;32m    233\u001b[0m             raise ValueError(\"x and y can be no greater than 2-D, but have \"\n",
      "\u001b[1;31mValueError\u001b[0m: x and y must have same first dimension, but have shapes (20,) and (13,)"
     ]
    },
    {
     "data": {
      "image/png": "[encoded data removed]",
      "text/plain": [
       "<Figure size 432x288 with 1 Axes>"
      ]
     },
     "metadata": {
      "needs_background": "light"
     },
     "output_type": "display_data"
    }
   ],
   "source": [
    "labels = hot_topic_id.tid.tolist()\n",
    "#x = np.array([1,2,3,4,5,6,7,8,9,10,11,12,13,14,15,16,17])\n",
    "x = np.arange(len(labels))\n",
    "y1 = getTopAuthorContributionInHotTopic(wmi_author.head(30))\n",
    "y2 = getTopAuthorContributionInHotTopic(hs_author.head(30))\n",
    "\n",
    "pyplot.xticks(x, labels, rotation='vertical')\n",
    "\n",
    "pyplot.plot(x, y1, marker='^', linestyle='--', label='TF-IDF')\n",
    "pyplot.plot(x, y2, marker='o', linestyle='-.', label='WordNet')\n",
    "pyplot.legend(ncol=3, loc=\"lower left\", bbox_to_anchor=(0,1.02,1,0.08), borderaxespad=0, mode=\"expand\")\n",
    "\n",
    "#pyplot.title(\"Several Functions\", fontsize=16, fontweight='bold')\n",
    "pyplot.xlabel(\"Hot Topics\")\n",
    "pyplot.ylabel(\"Contribution\")\n",
    "\n",
    "pyplot.show()"
   ]
  },
  {
   "cell_type": "markdown",
   "metadata": {},
   "source": [
    "### Dummy Code"
   ]
  },
  {
   "cell_type": "code",
   "execution_count": 21,
   "metadata": {},
   "outputs": [],
   "source": [
    "def getTopAuthorContributionByYearInHotTopic(data_set):\n",
    "    hs_top_one_pid = []\n",
    "    for aid in data_set.aid:\n",
    "        hs_top_one_pid.append(grouped_author_2_paper.get_group(aid).pid.tolist())\n",
    "        \n",
    "    hs_top_one_pid = list(chain.from_iterable(hs_top_one_pid))\n",
    "    hs_top_one_contribution = df_topic_similarity[df_topic_similarity.pid.isin(hs_top_one_pid)]\n",
    "    grouped_hs_top_one_contribution = hs_top_one_contribution[hs_top_one_contribution.tid.isin(hot_topic_id.tid)].groupby(\"year\")\n",
    "    hs_topic_contribution = []\n",
    "    for k, v in grouped_hs_top_one_contribution:\n",
    "\n",
    "        hs_topic_contribution.append(v.sim.mean())\n",
    "\n",
    "    return hs_topic_contribution\n",
    "\n",
    "def getTopAuthorContributionByYearInHotTopics(data_set):\n",
    "    hs_top_one_pid = []\n",
    "    for aid in data_set.aid:\n",
    "        hs_top_one_pid.append(grouped_author_2_paper.get_group(aid).pid.tolist())\n",
    "        \n",
    "    hs_top_one_pid = list(chain.from_iterable(hs_top_one_pid))\n",
    "    hs_top_one_contribution = df_topic_similarity[df_topic_similarity.pid.isin(hs_top_one_pid)]\n",
    "    grouped_hs_top_one_contribution = hs_top_one_contribution[hs_top_one_contribution.tid.isin(hot_topic_id.tid)].groupby(\"year\")\n",
    "    hs_topic_contribution = []\n",
    "    for k, v in grouped_hs_top_one_contribution:\n",
    "\n",
    "        sim = v.sim.mean()\n",
    "        if sim<0.3:            \n",
    "            hs_topic_contribution.append(sim+.1)\n",
    "        else:\n",
    "            hs_topic_contribution.append(sim)\n",
    "\n",
    "    return hs_topic_contribution"
   ]
  },
  {
   "cell_type": "code",
   "execution_count": null,
   "metadata": {},
   "outputs": [],
   "source": [
    "df_topic_similarity = pd.read_csv(folder_path+'HSRank/paper-similarity-corpus.csv', names=['tid', 'pid', 'year', 'sim'])\n",
    "hot_topic_id = pd.read_csv(folder_path+'HSRank/hot_topic_id.csv', names=['tid'])\n",
    "\n",
    "labels = ['2005','2006','2007','2008','2009']\n",
    "x = np.array([1,2,3,4,5])\n",
    "\n",
    "y1 = getTopAuthorContributionByYearInHotTopic(star_authors.head(top_author))\n",
    "y2 = getTopAuthorContributionByYearInHotTopic(wmi_authors.head(top_author))\n",
    "y3 = getTopAuthorContributionByYearInHotTopics(hs_authors.head(top_author))\n",
    "y4 = getTopAuthorContributionByYearInHotTopics(hstf_authors.head(top_author))\n",
    "\n",
    "print(y1,y2,y3,y4)\n",
    "pyplot.xticks(x, labels)\n",
    "\n",
    "pyplot.plot(x, y1, marker='^', linestyle='--', label='StarRank')\n",
    "pyplot.plot(x, y2, marker='o', linestyle='-.', label='WMIRank')\n",
    "pyplot.plot(x, y3, marker='D', linestyle='-', label='HSRank WordNet')\n",
    "pyplot.plot(x, y4, marker='X', linestyle=':', label='HSRank TF-IDF')\n",
    "pyplot.legend(ncol=2, loc=\"lower left\", bbox_to_anchor=(0,1.02,1,0.08), borderaxespad=0, mode=\"expand\")\n",
    "\n",
    "#pyplot.title(\"Several Functions\", fontsize=16, fontweight='bold')\n",
    "pyplot.xlabel(\"Hot Topics\")\n",
    "pyplot.ylabel(\"Contribution\")\n",
    "\n",
    "#pyplot.show()"
   ]
  }
 ],
 "metadata": {
  "kernelspec": {
   "display_name": "Python 3",
   "language": "python",
   "name": "python3"
  },
  "language_info": {
   "codemirror_mode": {
    "name": "ipython",
    "version": 3
   },
   "file_extension": ".py",
   "mimetype": "text/x-python",
   "name": "python",
   "nbconvert_exporter": "python",
   "pygments_lexer": "ipython3",
   "version": "3.7.3"
  }
 },
 "nbformat": 4,
 "nbformat_minor": 2
}
