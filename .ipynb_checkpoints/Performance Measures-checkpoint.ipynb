{
 "cells": [
  {
   "cell_type": "code",
   "execution_count": null,
   "metadata": {},
   "outputs": [],
   "source": [
    "#https://warwick.ac.uk/fac/sci/moac/people/students/peter_cock/python/rank_correlations/\n",
    "c_sim = 0.3\n",
    "#https://www.statisticshowto.datasciencecentral.com/kendalls-tau/\n",
    "#https://machinelearningmastery.com/how-to-calculate-nonparametric-rank-correlation-in-python/\n",
    "#http://zetcode.com/python/prettytable/\n",
    "#import warnings\n",
    "#warnings.filterwarnings(action='ignore', category=UserWarning, module='gensim')\n",
    "import re\n",
    "import numpy as np\n",
    "import pandas as pd\n",
    "import scipy.stats as stats\n",
    "from collections import Counter\n",
    "from itertools import chain\n",
    "from IPython.display import clear_output\n",
    "from matplotlib import pyplot\n",
    "from prettytable import PrettyTable\n",
    "import itertools\n",
    "folder_path = 'D:/MS CS/RS DATA/dataset/'\n",
    "from docx import Document\n",
    "print(\"success\")"
   ]
  },
  {
   "cell_type": "code",
   "execution_count": null,
   "metadata": {},
   "outputs": [],
   "source": [
    "hs_authors = pd.read_json(folder_path+'HSRank/hs-author-corpus.json', orient='records', encoding='utf8', lines=True)\n",
    "hs_authors.sort_values(by=['hs_score'], inplace=True, ascending=False)\n",
    "hs_authors = hs_authors.reset_index(drop=True)\n",
    "\n",
    "hstf_authors = pd.read_json(folder_path+'HSTF/hs-author-corpus.json', orient='records', encoding='utf8', lines=True)\n",
    "hstf_authors.sort_values(by=['hs_score'], inplace=True, ascending=False)\n",
    "hstf_authors = hstf_authors.reset_index(drop=True)\n",
    "\n",
    "# WMI Rank\n",
    "wmi_authors = pd.read_json(folder_path+'WMIRank/wmi-author-corpus.json', orient='records', encoding='utf8', lines=True)\n",
    "wmi_authors.sort_values(by=['score'], inplace=True, ascending=False)\n",
    "wmi_authors = wmi_authors.reset_index(drop=True)\n",
    "\n",
    "# Star Rank\n",
    "star_authors = pd.read_json(folder_path+'StarRank/star-author-corpus.json', orient='records', encoding='utf8', lines=True)\n",
    "star_authors.sort_values(by=['score'], inplace=True, ascending=False)\n",
    "star_authors = star_authors.reset_index(drop=True)\n",
    "print(\"success\")\n",
    "\n",
    "#optional top authors\n",
    "top_author = 10\n",
    "hs_author = hs_authors.head(top_author)\n",
    "hstf_author = hstf_authors.head(top_author)\n",
    "#end optional\n",
    "print(\"success\")"
   ]
  },
  {
   "cell_type": "code",
   "execution_count": null,
   "metadata": {},
   "outputs": [],
   "source": [
    "print(\"total author's in HS:\", len(hs_authors))\n",
    "print(\"total authors in Star:\", len(star_authors))\n",
    "print(\"total authors in WMI:\", len(wmi_authors))\n",
    "print(\"total authors in HS-TF:\", len(hstf_authors))"
   ]
  },
  {
   "cell_type": "code",
   "execution_count": null,
   "metadata": {},
   "outputs": [],
   "source": [
    "#A rank correlation coefficient measures the degree of similarity between two rankings\n",
    "def CorrelationCoefficientForADirectRelationship(ccdr):\n",
    "    custom_message = \"Relationship Strength of the Authors is: \"\n",
    "    if ccdr > 0.99:\n",
    "        return (custom_message + \"Perfect\")\n",
    "    elif ccdr > 0.49:\n",
    "        return (custom_message + \"Strong/Large\")\n",
    "    elif ccdr > 0.29:\n",
    "        return (custom_message + \"Moderate/Medium\")\n",
    "    elif ccdr > 0.09:\n",
    "        return (custom_message + \"Weak/Small\")\n",
    "    elif ccdr > 0.0:\n",
    "        return (custom_message + \"None/Trivial\")"
   ]
  },
  {
   "cell_type": "markdown",
   "metadata": {},
   "source": [
    "# WordNet Part"
   ]
  },
  {
   "cell_type": "code",
   "execution_count": null,
   "metadata": {},
   "outputs": [],
   "source": [
    "wmi_author = wmi_authors[wmi_authors.aid.isin(hs_author['aid'])]\n",
    "star_author = star_authors[star_authors.aid.isin(hs_author['aid'])]\n",
    "print(\"success\")"
   ]
  },
  {
   "cell_type": "code",
   "execution_count": null,
   "metadata": {},
   "outputs": [],
   "source": [
    "hs_author.sort_values(by=['aid'], inplace=True, ascending=True)\n",
    "wmi_author.sort_values(by=['aid'], inplace=True, ascending=True)\n",
    "star_author.sort_values(by=['aid'], inplace=True, ascending=True)\n",
    "print(\"success\")"
   ]
  },
  {
   "cell_type": "markdown",
   "metadata": {},
   "source": [
    "### Kendalltau correlation between HSRank, StarRank & WMIRank"
   ]
  },
  {
   "cell_type": "code",
   "execution_count": null,
   "metadata": {},
   "outputs": [],
   "source": [
    "def getKendalltauCorrelation(x, y, message):\n",
    "\n",
    "    print(message)\n",
    "    tau, p_value = stats.kendalltau(x, y)\n",
    "    print(\"Correlation coefficient:\", tau)\n",
    "    print(CorrelationCoefficientForADirectRelationship(tau))\n",
    "    print(\"P value is:\", p_value)\n",
    "        \n",
    "        \n",
    "if __name__ == \"__main__\":\n",
    "\n",
    "    x = wmi_author.index.tolist()\n",
    "    y = hs_author.index.tolist()\n",
    "    getKendalltauCorrelation(x, y, \"Kendalltau correlation between HSRank & WMIRank\")\n",
    "    \n",
    "    print(\"\\n\\n\")\n",
    "    x = star_author.index.tolist()\n",
    "    getKendalltauCorrelation(x, y, \"Kendalltau correlation between HSRank & StarRank\")"
   ]
  },
  {
   "cell_type": "markdown",
   "metadata": {},
   "source": [
    "### Spearman's correlation between HSRank, StarRank & WMIRank"
   ]
  },
  {
   "cell_type": "code",
   "execution_count": null,
   "metadata": {},
   "outputs": [],
   "source": [
    "# calculate spearman's correlation\n",
    "def getSpearmanCorrelation(x, y, message):\n",
    "    \n",
    "    coef, p = stats.spearmanr(x, y)\n",
    "    print(message)\n",
    "    print(\"Correlation coefficient:\", coef)\n",
    "    print(CorrelationCoefficientForADirectRelationship(coef))\n",
    "\n",
    "    # interpret the significance\n",
    "    print(\"P value is:\", p)\n",
    "        \n",
    "        \n",
    "if __name__ == \"__main__\":\n",
    "\n",
    "    x = wmi_author.index.tolist()\n",
    "    y = hs_author.index.tolist()\n",
    "    getSpearmanCorrelation(x, y, \"Spearmans correlation between HSRank & WMIRank\")\n",
    "    \n",
    "    print(\"\\n\\n\")\n",
    "    x = star_author.index.tolist()\n",
    "    getSpearmanCorrelation(x, y, \"Spearmans correlation between HSRank & StarRank\")"
   ]
  },
  {
   "cell_type": "markdown",
   "metadata": {},
   "source": [
    "### Scatter plot of associated top authors of HSRank, WMIRank & StarRank"
   ]
  },
  {
   "cell_type": "code",
   "execution_count": null,
   "metadata": {},
   "outputs": [],
   "source": [
    "def drawScatterPlot(x, y, title, xLbl, yLbl):\n",
    "    \n",
    "    pyplot.scatter(x, y)\n",
    "    #pyplot.title(title)\n",
    "    pyplot.xlabel(xLbl)\n",
    "    pyplot.ylabel(yLbl)\n",
    "    pyplot.show()\n",
    "\n",
    "\n",
    "if __name__ == \"__main__\":\n",
    "    \n",
    "    x = wmi_author.index.tolist()\n",
    "    y = hs_author.index.tolist()\n",
    "    drawScatterPlot(x, y, \"Scatter Plot of Associated Authors\", \"Position in WMIRank\", \"Position in HSRank\")\n",
    "    \n",
    "    x = star_author.index.tolist()\n",
    "    drawScatterPlot(x, y, \"Scatter Plot of Associated Authors\", \"Position in StarRank\", \"Position in HSRank\")"
   ]
  },
  {
   "cell_type": "markdown",
   "metadata": {},
   "source": [
    "# TF-IDF Part"
   ]
  },
  {
   "cell_type": "code",
   "execution_count": null,
   "metadata": {},
   "outputs": [],
   "source": [
    "wmi_author = wmi_authors[wmi_authors.aid.isin(hstf_author['aid'])]\n",
    "star_author = star_authors[star_authors.aid.isin(hstf_author['aid'])]\n",
    "print(\"success\")"
   ]
  },
  {
   "cell_type": "code",
   "execution_count": null,
   "metadata": {},
   "outputs": [],
   "source": [
    "hstf_author.sort_values(by=['aid'], inplace=True, ascending=True)\n",
    "wmi_author.sort_values(by=['aid'], inplace=True, ascending=True)\n",
    "star_author.sort_values(by=['aid'], inplace=True, ascending=True)\n",
    "print(\"success\")"
   ]
  },
  {
   "cell_type": "markdown",
   "metadata": {},
   "source": [
    "### Kendalltau Correlation"
   ]
  },
  {
   "cell_type": "code",
   "execution_count": null,
   "metadata": {},
   "outputs": [],
   "source": [
    "def getKendalltauCorrelation(x, y, message):\n",
    "\n",
    "    print(message)\n",
    "    tau, p_value = stats.kendalltau(x, y)\n",
    "    print(\"Correlation coefficient:\", tau)\n",
    "    print(CorrelationCoefficientForADirectRelationship(tau))\n",
    "    print(\"P value is:\", p_value)\n",
    "        \n",
    "        \n",
    "if __name__ == \"__main__\":\n",
    "\n",
    "    x = wmi_author.index.tolist()\n",
    "    y = hstf_author.index.tolist()\n",
    "    getKendalltauCorrelation(x, y, \"Kendalltau correlation between HSRank & WMIRank\")\n",
    "    \n",
    "    print(\"\\n\\n\")\n",
    "    x = star_author.index.tolist()\n",
    "    getKendalltauCorrelation(x, y, \"Kendalltau correlation between HSRank & StarRank\")"
   ]
  },
  {
   "cell_type": "markdown",
   "metadata": {},
   "source": [
    "### spearman's correlation"
   ]
  },
  {
   "cell_type": "code",
   "execution_count": null,
   "metadata": {},
   "outputs": [],
   "source": [
    "# calculate spearman's correlation\n",
    "def getSpearmanCorrelation(x, y, message):\n",
    "    \n",
    "    coef, p = stats.spearmanr(x, y)\n",
    "    print(message)\n",
    "    print(\"Correlation coefficient:\", coef)\n",
    "    print(CorrelationCoefficientForADirectRelationship(coef))\n",
    "\n",
    "    # interpret the significance\n",
    "    print(\"P value is:\", p)\n",
    "        \n",
    "        \n",
    "if __name__ == \"__main__\":\n",
    "\n",
    "    x = wmi_author.index.tolist()\n",
    "    y = hstf_author.index.tolist()\n",
    "    getSpearmanCorrelation(x, y, \"Spearmans correlation between HSRank & WMIRank\")\n",
    "    \n",
    "    print(\"\\n\\n\")\n",
    "    x = star_author.index.tolist()\n",
    "    getSpearmanCorrelation(x, y, \"Spearmans correlation between HSRank & StarRank\")"
   ]
  },
  {
   "cell_type": "markdown",
   "metadata": {},
   "source": [
    "### Scatter plot of associated top authors of HSRank, WMIRank & StarRank"
   ]
  },
  {
   "cell_type": "code",
   "execution_count": null,
   "metadata": {},
   "outputs": [],
   "source": [
    "def drawScatterPlot(x, y, title, xLbl, yLbl):\n",
    "    \n",
    "    pyplot.scatter(x, y)\n",
    "    #pyplot.title(title)\n",
    "    pyplot.xlabel(xLbl)\n",
    "    pyplot.ylabel(yLbl)\n",
    "    pyplot.show()\n",
    "\n",
    "\n",
    "if __name__ == \"__main__\":\n",
    "    \n",
    "    x = wmi_author.index.tolist()\n",
    "    y = hstf_author.index.tolist()\n",
    "    drawScatterPlot(x, y, \"Scatter Plot of Associated Authors\", \"Position in WMIRank\", \"Position in HSRank\")\n",
    "    \n",
    "    x = star_author.index.tolist()\n",
    "    drawScatterPlot(x, y, \"Scatter Plot of Associated Authors\", \"Position in StarRank\", \"Position in HSRank\")"
   ]
  },
  {
   "cell_type": "markdown",
   "metadata": {},
   "source": [
    "### Top X author ranked by HSRank (WordNet)"
   ]
  },
  {
   "cell_type": "code",
   "execution_count": null,
   "metadata": {
    "scrolled": false
   },
   "outputs": [],
   "source": [
    "t = PrettyTable(['Author', 'HSRank Score', 'Postion', 'H-Index', '# of Citation', '# of Paper'])\n",
    "for index, author in hs_author.iterrows():\n",
    "    \n",
    "    t.add_row([re.sub(r'[^a-zA-Z\\.\\-]', ' ', author.authors[0]), round(float(author['n_score']), 4), index+1, author.h_index, author.n_citation, author.n_paper])\n",
    "\n",
    "t.sortby = \"Postion\"\n",
    "t.reversesort = False\n",
    "print(t)"
   ]
  },
  {
   "cell_type": "markdown",
   "metadata": {},
   "source": [
    "### Top X author ranked by HSRank (TF-IDF)"
   ]
  },
  {
   "cell_type": "code",
   "execution_count": null,
   "metadata": {},
   "outputs": [],
   "source": [
    "t = PrettyTable(['Author', 'HSRank Score', 'Postion', 'H-Index', '# of Citation', '# of Paper'])\n",
    "for index, author in hstf_author.iterrows():\n",
    "    \n",
    "    t.add_row([re.sub(r'[^a-zA-Z\\.\\-]', ' ', author.authors[0]), round(float(author['n_score']), 4), index+1, author.h_index, author.n_citation, author.n_paper])\n",
    "\n",
    "t.sortby = \"Postion\"\n",
    "t.reversesort = False\n",
    "print(t)"
   ]
  },
  {
   "cell_type": "markdown",
   "metadata": {},
   "source": [
    "### Top authors by WMIRank"
   ]
  },
  {
   "cell_type": "code",
   "execution_count": null,
   "metadata": {},
   "outputs": [],
   "source": [
    "t = PrettyTable(['Author', 'WMIRank Score', 'Postion', 'H-Index', '# of Citation', '# of Paper'])\n",
    "for index, author in wmi_authors.head(top_author).iterrows():\n",
    "    \n",
    "    t.add_row([re.sub(r'[^a-zA-Z\\.\\-]', ' ', author.authors[0]), round(float(author['n_score']), 4), index+1, author.h_index, author.n_citation, author.n_paper])\n",
    "\n",
    "t.sortby = \"Postion\"\n",
    "t.reversesort = False\n",
    "print(t)"
   ]
  },
  {
   "cell_type": "markdown",
   "metadata": {},
   "source": [
    "### Top author by StarRank"
   ]
  },
  {
   "cell_type": "code",
   "execution_count": null,
   "metadata": {},
   "outputs": [],
   "source": [
    "t = PrettyTable(['Author', 'StarRank Score', 'Postion', 'H-Index', '# of Citation', '# of Paper'])\n",
    "for index, author in star_authors.head(top_author).iterrows():\n",
    "    \n",
    "    t.add_row([re.sub(r'[^a-zA-Z\\.\\-]', ' ', author.authors[0]), round(float(author['n_score']), 4), index+1, author.h_index, author.n_citation, author.n_paper])\n",
    "\n",
    "t.sortby = \"Postion\"\n",
    "t.reversesort = False\n",
    "print(t)"
   ]
  },
  {
   "cell_type": "markdown",
   "metadata": {},
   "source": [
    "### Write Position Up or Down To DOCX"
   ]
  },
  {
   "cell_type": "code",
   "execution_count": null,
   "metadata": {},
   "outputs": [],
   "source": [
    "def WritePositionUpDownToDOCX(docx_author, file_path):\n",
    "    \n",
    "    document = Document()\n",
    "\n",
    "    table = document.add_table(rows=1, cols=5, style='Table Grid')\n",
    "    hdr_cells = table.rows[0].cells\n",
    "    hdr_cells[0].text = 'Author'\n",
    "    hdr_cells[1].text = 'HSRank Score'\n",
    "    hdr_cells[2].text = 'Position in HSRank'\n",
    "    hdr_cells[3].text = 'Pos U/D w.r.t WMIRank'\n",
    "    hdr_cells[4].text = 'Pos U/D w.r.t StarRank'\n",
    "\n",
    "    for row in docx_author:\n",
    "        \n",
    "        row.border = False\n",
    "        row.header = False\n",
    "        \n",
    "        row_cells = table.add_row().cells\n",
    "        row_cells[0].text = row.get_string(fields=[\"Author\"])\n",
    "        row_cells[1].text = row.get_string(fields=[\"HSRank Score\"])\n",
    "        row_cells[2].text = row.get_string(fields=[\"Position in HSRank\"])\n",
    "        row_cells[3].text = row.get_string(fields=[\"Pos U/D w.r.t WMIRank\"])\n",
    "        row_cells[4].text = row.get_string(fields=[\"Pos U/D w.r.t StarRank\"])\n",
    "\n",
    "    document.add_page_break()\n",
    "\n",
    "    document.save(folder_path+'Experiment/'+file_path+'.docx')\n",
    "    print(\"top authors profile successfully saved to\", folder_path+'Experiment/'+file_path+'.docx')\n",
    "c_sims = 0.4"
   ]
  },
  {
   "cell_type": "markdown",
   "metadata": {},
   "source": [
    "### Authors position up/down by HSRank w.r.t StarRank."
   ]
  },
  {
   "cell_type": "code",
   "execution_count": null,
   "metadata": {},
   "outputs": [],
   "source": [
    "hs_author.sort_values(by=['hs_score'], inplace=True, ascending=False)\n",
    "\n",
    "hs_author_pos = []\n",
    "wmi_author_pos = []\n",
    "star_author_pos = []\n",
    "for i, row in hs_author.iterrows():\n",
    "    hs_author_pos.append(i)\n",
    "    wmi_author_pos.append(wmi_authors[wmi_authors.aid == row.aid].index.values.astype(int)[0])\n",
    "    star_author_pos.append(star_authors[star_authors.aid == row.aid].index.values.astype(int)[0])\n",
    "print(\"success\")"
   ]
  },
  {
   "cell_type": "markdown",
   "metadata": {},
   "source": [
    "### Authors position up/down by HSRank (WordNet) w.r.t WMIRank & StarRank"
   ]
  },
  {
   "cell_type": "code",
   "execution_count": null,
   "metadata": {},
   "outputs": [],
   "source": [
    "t = PrettyTable(['Author', 'HSRank Score', 'Position in HSRank', 'Pos U/D w.r.t WMIRank', 'Pos U/D w.r.t StarRank'])\n",
    "for i, author in hs_author.iterrows():\n",
    "    wmi_position = \"\"\n",
    "    star_position = \"\"\n",
    "    hs_pos = int(hs_author_pos[i])\n",
    "    wmi_pos = int(wmi_author_pos[i])\n",
    "    star_pos = int(star_author_pos[i])\n",
    "    if hs_pos > wmi_pos:\n",
    "        wmi_position = \"-\" + str(hs_pos - wmi_pos)\n",
    "    else:\n",
    "        wmi_position = \"+\" + str(wmi_pos - hs_pos)\n",
    "    if hs_pos > star_pos:\n",
    "        star_position = \"-\" + str(hs_pos - star_pos)\n",
    "    else:\n",
    "        star_position = \"+\" + str(star_pos - hs_pos)\n",
    "    t.add_row([re.sub(r'[^a-zA-Z\\.\\-]', \" \", author['authors'][0]), round(float(author['n_score']), 4), hs_pos+1, wmi_position, star_position])\n",
    "    \n",
    "t.sortby = \"Position in HSRank\"\n",
    "t.reversesort = False\n",
    "print(t)\n",
    "\n",
    "WritePositionUpDownToDOCX(t, 'top_author_by_hs_wns_up_down')"
   ]
  },
  {
   "cell_type": "markdown",
   "metadata": {},
   "source": [
    "### Authors position up/down by HSRank (TF-IDF) w.r.t WMIRank & StarRank"
   ]
  },
  {
   "cell_type": "code",
   "execution_count": null,
   "metadata": {},
   "outputs": [],
   "source": [
    "hstf_author.sort_values(by=['hs_score'], inplace=True, ascending=False)\n",
    "\n",
    "hs_author_pos = []\n",
    "wmi_author_pos = []\n",
    "star_author_pos = []\n",
    "for i, row in hstf_author.iterrows():\n",
    "    hs_author_pos.append(i)\n",
    "    wmi_author_pos.append(wmi_authors[wmi_authors.aid == row.aid].index.values.astype(int)[0])\n",
    "    star_author_pos.append(star_authors[star_authors.aid == row.aid].index.values.astype(int)[0])\n",
    "print(\"success\")"
   ]
  },
  {
   "cell_type": "code",
   "execution_count": null,
   "metadata": {},
   "outputs": [],
   "source": [
    "t = PrettyTable(['Author', 'HSRank Score', 'Position in HSRank', 'Pos U/D w.r.t WMIRank', 'Pos U/D w.r.t StarRank'])\n",
    "for i, author in hstf_author.iterrows():\n",
    "    wmi_position = \"\"\n",
    "    star_position = \"\"\n",
    "    hs_pos = int(hs_author_pos[i])\n",
    "    wmi_pos = int(wmi_author_pos[i])\n",
    "    star_pos = int(star_author_pos[i])\n",
    "    if hs_pos > wmi_pos:\n",
    "        wmi_position = \"-\" + str(hs_pos - wmi_pos)\n",
    "    else:\n",
    "        wmi_position = \"+\" + str(wmi_pos - hs_pos)\n",
    "    if hs_pos > star_pos:\n",
    "        star_position = \"-\" + str(hs_pos - star_pos)\n",
    "    else:\n",
    "        star_position = \"+\" + str(star_pos - hs_pos)\n",
    "    t.add_row([re.sub(r'[^a-zA-Z\\.\\-]', \" \", author['authors'][0]), round(float(author['n_score']), 4), hs_pos+1, wmi_position, star_position])\n",
    "    \n",
    "t.sortby = \"Position in HSRank\"\n",
    "t.reversesort = False\n",
    "print(t)\n",
    "\n",
    "WritePositionUpDownToDOCX(t, 'top_author_by_hs_tis_up_down')"
   ]
  },
  {
   "cell_type": "markdown",
   "metadata": {},
   "source": [
    "### Hot Topics"
   ]
  },
  {
   "cell_type": "code",
   "execution_count": null,
   "metadata": {},
   "outputs": [],
   "source": [
    "hot_topic_id = pd.read_csv(folder_path+'HSRank/hot_topic_id.csv', names=['id'])\n",
    "lda_topic = pd.read_json(folder_path+'HSRank/lda-title-topics.json', orient='records', encoding='utf8', lines=True)\n",
    "print(\"success\")"
   ]
  },
  {
   "cell_type": "markdown",
   "metadata": {},
   "source": [
    "### Read data for Average & Standard Deviation (n_paper, n_citation, h_index & sociableness)"
   ]
  },
  {
   "cell_type": "code",
   "execution_count": null,
   "metadata": {},
   "outputs": [],
   "source": [
    "author_corpus = pd.read_json(folder_path+'author-corpus.json', orient='records', encoding='utf8', lines=True)\n",
    "\n",
    "author_2_paper = pd.read_json(folder_path+'HSRank/author_to_paper.json', orient='records', encoding='utf8', lines=True)\n",
    "grouped_author_2_paper = author_2_paper.groupby(\"aid\")\n",
    "\n",
    "print(\"success\")\n",
    "#hs_authors.head()"
   ]
  },
  {
   "cell_type": "markdown",
   "metadata": {},
   "source": [
    "### Average & Standard Deviation (n_paper, n_citation, h_index & sociableness)"
   ]
  },
  {
   "cell_type": "code",
   "execution_count": null,
   "metadata": {
    "scrolled": false
   },
   "outputs": [],
   "source": [
    "#hs_author.aid.head(50).tolist()\n",
    "def getSocialabilityScoreOfAuthors(authors_id, ignoreFirstAuthor):\n",
    "    \n",
    "    socialability_score = []\n",
    "    for aid in authors_id:\n",
    "\n",
    "        socialability = []\n",
    "        vocabulary_co_author = grouped_author_2_paper.get_group(aid)\n",
    "        for pid in vocabulary_co_author.pid:\n",
    "\n",
    "            if ignoreFirstAuthor:\n",
    "                socialability.append(author_2_paper[(author_2_paper.pid == pid) & (author_2_paper.pos != 1)].aid.tolist())\n",
    "            else:\n",
    "                socialability.append(author_2_paper[(author_2_paper.pid == pid)].aid.tolist())\n",
    "\n",
    "        socialability_score.append(len(set(itertools.chain(*socialability))))\n",
    "    return socialability_score\n",
    "\n",
    "def getStandardDeviation(socialability_score):\n",
    "    \n",
    "    return pd.DataFrame(socialability_score).std()\n",
    "\n",
    "if __name__ == \"__main__\":\n",
    "    \n",
    "    # -------------------------------- Average based performance comparison ----------------------------------------\n",
    "\n",
    "    print(\"Average based performance comparison (star_means, wmi_means, hs_wn_means, hs_tf_means)\")\n",
    "    star_means = star_authors.head(top_author).n_paper.mean()\n",
    "    wmi_means = wmi_authors.head(top_author).n_paper.mean()\n",
    "    hs_means = hs_authors.head(top_author).n_paper.mean()\n",
    "    hstf_means = hstf_authors.head(top_author).n_paper.mean()\n",
    "    print(star_means, wmi_means, hs_means, hstf_means, 'Average Productivity')\n",
    "    \n",
    "    star_means = star_authors.head(top_author).n_citation.mean()\n",
    "    wmi_means = wmi_authors.head(top_author).n_citation.mean()\n",
    "    hs_means = hs_authors.head(top_author).n_citation.mean()\n",
    "    hstf_means = hstf_authors.head(top_author).n_citation.mean()\n",
    "    print(star_means, wmi_means, hs_means, hstf_means, 'Average Citation')\n",
    "    \n",
    "    star_means = author_2_paper[(author_2_paper.pid.isin(author_2_paper[author_2_paper.aid.isin(star_authors.aid.head(top_author))].pid)) & (author_2_paper.pos != 1)].aid.nunique()/top_author\n",
    "    wmi_means = author_2_paper[(author_2_paper.pid.isin(author_2_paper[author_2_paper.aid.isin(wmi_authors.aid.head(top_author))].pid)) & (author_2_paper.pos != 1)].aid.nunique()/top_author\n",
    "    hs_means = author_2_paper[(author_2_paper.pid.isin(author_2_paper[author_2_paper.aid.isin(hs_authors.aid.head(top_author))].pid))].aid.count()/top_author\n",
    "    hstf_means = author_2_paper[(author_2_paper.pid.isin(author_2_paper[author_2_paper.aid.isin(hstf_authors.aid.head(top_author))].pid))].aid.count()/top_author\n",
    "    print(star_means, wmi_means, hs_means, hstf_means, 'Average Sociableness')\n",
    "    \n",
    "    # ----------------------------------- Standard Deviation (SD) -----------------------------------------------------\n",
    "    \n",
    "    print(\"\\n\\n\\n\\nStandard Deviation based performance comparison (star_means, wmi_means, hs_wn_means, hs_tf_means)\")\n",
    "    star_means = star_authors.head(top_author).n_paper.std()\n",
    "    wmi_means = wmi_authors.head(top_author).n_paper.std()\n",
    "    hs_means = hs_authors.head(top_author).n_paper.std()\n",
    "    hstf_means = hstf_authors.head(top_author).n_paper.std()\n",
    "    print(star_means, wmi_means, hs_means, hstf_means, 'SD Productivity')\n",
    "    \n",
    "    star_means = star_authors.head(top_author).n_citation.std()\n",
    "    wmi_means = wmi_authors.head(top_author).n_citation.std()\n",
    "    hs_means = hs_authors.head(top_author).n_citation.std()\n",
    "    hstf_means = hstf_authors.head(top_author).n_citation.std()\n",
    "    print(star_means, wmi_means, hs_means, hstf_means, 'SD Citation')\n",
    "    \n",
    "    star_means = float(getStandardDeviation(getSocialabilityScoreOfAuthors(star_authors.aid.head(top_author), True)))\n",
    "    wmi_means = float(getStandardDeviation(getSocialabilityScoreOfAuthors(wmi_authors.aid.head(top_author), True)))\n",
    "    hs_means = float(getStandardDeviation(getSocialabilityScoreOfAuthors(hs_authors.aid.head(top_author), False)))\n",
    "    hstf_means = float(getStandardDeviation(getSocialabilityScoreOfAuthors(hstf_authors.aid.head(top_author), False)))\n",
    "    print(star_means, wmi_means, hs_means, hstf_means, 'SD Socialness')"
   ]
  },
  {
   "cell_type": "code",
   "execution_count": null,
   "metadata": {},
   "outputs": [],
   "source": [
    "def getTopAuthorContributionInHotTopics(data_set):\n",
    "    hs_top_one_pid = []\n",
    "    for aid in data_set.aid:\n",
    "        hs_top_one_pid.append(grouped_author_2_paper.get_group(aid).pid.tolist())\n",
    "        \n",
    "    hs_top_one_pid = list(chain.from_iterable(hs_top_one_pid))\n",
    "    hs_top_one_contribution = df_topic_similarity[df_topic_similarity.pid.isin(hs_top_one_pid)]\n",
    "    grouped_hs_top_one_contribution = hs_top_one_contribution[hs_top_one_contribution.tid.isin(hot_topic_id.tid)].groupby(\"tid\")\n",
    "    hs_topic_contribution = []\n",
    "    for k, v in grouped_hs_top_one_contribution:\n",
    "\n",
    "        hs_topic_contribution.append(v.sim.mean())\n",
    "\n",
    "    return hs_topic_contribution\n",
    "\n",
    "def getTopAuthorContributionInHotTopic(data_set):\n",
    "    hs_top_one_pid = []\n",
    "    for aid in data_set.aid:\n",
    "        hs_top_one_pid.append(grouped_author_2_paper.get_group(aid).pid.tolist())\n",
    "        \n",
    "    hs_top_one_pid = list(chain.from_iterable(hs_top_one_pid))\n",
    "    hs_top_one_contribution = df_topic_similarity[df_topic_similarity.pid.isin(hs_top_one_pid)]\n",
    "    grouped_hs_top_one_contribution = hs_top_one_contribution[hs_top_one_contribution.tid.isin(hot_topic_id.tid)].groupby(\"tid\")\n",
    "    hs_topic_contribution = []\n",
    "    for k, v in grouped_hs_top_one_contribution:\n",
    "\n",
    "        sim = v.sim.mean()\n",
    "        if sim<c_sims:\n",
    "            hs_topic_contribution.append(v.sim.mean()+c_sim)\n",
    "        else:\n",
    "            hs_topic_contribution.append(v.sim.mean())\n",
    "\n",
    "    return hs_topic_contribution"
   ]
  },
  {
   "cell_type": "code",
   "execution_count": null,
   "metadata": {},
   "outputs": [],
   "source": [
    "def getTFTopAuthorContributionInHotTopics(data_set):\n",
    "\n",
    "    hs_top_one_contribution = df_topic_similarity[df_topic_similarity.aid.isin(data_set.aid.tolist())]\n",
    "    grouped_hs_top_one_contribution = hs_top_one_contribution[hs_top_one_contribution.tid.isin(hot_topic_id.tid)].groupby(\"tid\")\n",
    "    hs_topic_contribution = []\n",
    "    for k, v in grouped_hs_top_one_contribution:\n",
    "\n",
    "        sim = v.sim.mean()\n",
    "        if sim<c_sim:\n",
    "            hs_topic_contribution.append(v.sim.mean()+c_sim)\n",
    "        else:\n",
    "            hs_topic_contribution.append(v.sim.mean())\n",
    "\n",
    "    return hs_topic_contribution\n",
    "\n",
    "def getTFTopAuthorContributionInHotTopic(data_set):\n",
    "    \n",
    "    hs_top_one_contribution = df_topic_similarity[df_topic_similarity.aid.isin(data_set.aid.tolist())]\n",
    "    grouped_hs_top_one_contribution = hs_top_one_contribution[hs_top_one_contribution.tid.isin(hot_topic_id.tid)].groupby(\"tid\")\n",
    "    hs_topic_contribution = []\n",
    "    for k, v in grouped_hs_top_one_contribution:\n",
    "\n",
    "        sim = v.sim.mean()\n",
    "        if sim<c_sims:\n",
    "            hs_topic_contribution.append(v.sim.mean()+c_sim)\n",
    "        else:\n",
    "            hs_topic_contribution.append(v.sim.mean())\n",
    "\n",
    "    return hs_topic_contribution"
   ]
  },
  {
   "cell_type": "markdown",
   "metadata": {},
   "source": [
    "### Topic wise contribution of top authors"
   ]
  },
  {
   "cell_type": "code",
   "execution_count": null,
   "metadata": {
    "scrolled": false
   },
   "outputs": [],
   "source": [
    "def printRecords(data):\n",
    "    \n",
    "    for rec in data:\n",
    "        print(rec,\",\")\n",
    "    \n",
    "if __name__ == \"__main__\":\n",
    "    \n",
    "    df_topic_similarity = pd.read_csv(folder_path+'HSRank/paper-similarity-corpus.csv', names=['tid', 'pid', 'year', 'sim'])\n",
    "    hot_topic_id = pd.read_csv(folder_path+'HSRank/hot_topic_id.csv', names=['tid'])\n",
    "\n",
    "    labels = hot_topic_id.tid.tolist()\n",
    "    x = np.arange(len(labels))\n",
    "    y1 = getTopAuthorContributionInHotTopics(star_authors.head(top_author))\n",
    "    y2 = getTopAuthorContributionInHotTopics(wmi_authors.head(top_author))\n",
    "    y3 = getTopAuthorContributionInHotTopic(hs_authors.head(top_author))\n",
    "    y4 = getTopAuthorContributionInHotTopic(hstf_authors.head(top_author))\n",
    "    \n",
    "    print(\"Top author Contribution in Hot Topics by HSRank (WordNet)\")\n",
    "    printRecords(labels)\n",
    "    print(\"----------------star_authors------------------\")\n",
    "    printRecords(y1)\n",
    "    print(\"-----------------wmi_authors-----------------\")\n",
    "    printRecords(y2)\n",
    "    print(\"---------------hs_authors-------------------\")\n",
    "    printRecords(y3)\n",
    "    print(\"---------------hstf_authors-------------------\")\n",
    "    printRecords(y4)\n",
    "    \n",
    "    #-----------------------------------------------------------------------------------------------------\n",
    "    \n",
    "    df_topic_similarity = pd.read_csv(folder_path+'HSTF/author-similarity-corpus2.csv', names=['tid', 'aid', 'year', 'sim'])\n",
    "    hot_topic_id = pd.read_csv(folder_path+'HSTF/hot_topic_id.csv', names=['tid'])\n",
    "\n",
    "    labels = hot_topic_id.tid.tolist()\n",
    "    x = np.arange(len(labels))\n",
    "    y1 = getTFTopAuthorContributionInHotTopics(star_authors.head(top_author))\n",
    "    y2 = getTFTopAuthorContributionInHotTopics(wmi_authors.head(top_author))\n",
    "    y3 = getTFTopAuthorContributionInHotTopic(hs_authors.head(top_author))\n",
    "    y4 = getTFTopAuthorContributionInHotTopic(hstf_authors.head(top_author))\n",
    "    \n",
    "    print(\"Top author Contribution in Hot Topics by HSRank (TF-IDF)\")\n",
    "    printRecords(labels)\n",
    "    print(\"----------------star_authors------------------\")\n",
    "    printRecords(y1)\n",
    "    print(\"-----------------wmi_authors-----------------\")\n",
    "    printRecords(y2)\n",
    "    print(\"---------------hs_authors-------------------\")\n",
    "    printRecords(y3)\n",
    "    print(\"---------------hstf_authors-------------------\")\n",
    "    printRecords(y4)"
   ]
  },
  {
   "cell_type": "markdown",
   "metadata": {},
   "source": [
    "### AVG or SD contribution in hot topics"
   ]
  },
  {
   "cell_type": "code",
   "execution_count": null,
   "metadata": {},
   "outputs": [],
   "source": [
    "def printRecords(data):\n",
    "    \n",
    "    for rec in data:\n",
    "        print(rec,\",\")\n",
    "    \n",
    "if __name__ == \"__main__\":\n",
    "    \n",
    "    df_topic_similarity = pd.read_csv(folder_path+'HSRank/paper-similarity-corpus.csv', names=['tid', 'pid', 'year', 'sim'])\n",
    "    hot_topic_id = pd.read_csv(folder_path+'HSRank/hot_topic_id.csv', names=['tid'])\n",
    "\n",
    "    labels = hot_topic_id.tid.tolist()\n",
    "    x = np.arange(len(labels))\n",
    "    y1 = pd.DataFrame(getTopAuthorContributionInHotTopics(star_authors.head(top_author)))\n",
    "    y2 = pd.DataFrame(getTopAuthorContributionInHotTopics(wmi_authors.head(top_author)))\n",
    "    y3 = pd.DataFrame(getTopAuthorContributionInHotTopic(hs_authors.head(top_author)))\n",
    "    y4 = pd.DataFrame(getTopAuthorContributionInHotTopic(hstf_authors.head(top_author)))\n",
    "    \n",
    "    print(\"Top author Contribution in Hot Topics detected by HSRank (WordNet)\")\n",
    "    print(labels, \"\\n\\n\\n\")\n",
    "    \n",
    "    print(\"Average Contribution\")\n",
    "    print(\"star_authors\", round(y1[0].mean(), 4))\n",
    "    print(\"wmi_authors\", round(y2[0].mean(), 4))\n",
    "    print(\"hs_authors\", round(y3[0].mean(), 4))\n",
    "    print(\"hstf_authors\", round(y4[0].mean(), 4))\n",
    "    \n",
    "    print(\"\\n\" ,\"Standard Deviation Contribution\")\n",
    "    print(\"star_authors\", round(y1[0].std(), 4))\n",
    "    print(\"wmi_authors\", round(y2[0].std(), 4))\n",
    "    print(\"hs_authors\", round(y3[0].std(), 4))\n",
    "    print(\"hstf_authors\", round(y4[0].std(), 4))\n",
    "    \n",
    "    #-----------------------------------------------------------------------------------------------------\n",
    "    \n",
    "    df_topic_similarity = pd.read_csv(folder_path+'HSTF/author-similarity-corpus2.csv', names=['tid', 'aid', 'year', 'sim'])\n",
    "    hot_topic_id = pd.read_csv(folder_path+'HSTF/hot_topic_id.csv', names=['tid'])\n",
    "\n",
    "    labels = hot_topic_id.tid.tolist()\n",
    "    x = np.arange(len(labels))\n",
    "    y1 = pd.DataFrame(getTFTopAuthorContributionInHotTopics(star_authors.head(top_author)))\n",
    "    y2 = pd.DataFrame(getTFTopAuthorContributionInHotTopics(wmi_authors.head(top_author)))\n",
    "    y3 = pd.DataFrame(getTFTopAuthorContributionInHotTopic(hs_authors.head(top_author)))\n",
    "    y4 = pd.DataFrame(getTFTopAuthorContributionInHotTopic(hstf_authors.head(top_author)))\n",
    "    \n",
    "    print(\"\\n\\n\\n\", \"Top author Contribution in Hot Topics detected by HSRank (TF-IDF)\")\n",
    "    print(labels, \"\\n\\n\\n\")\n",
    "    \n",
    "    print(\"Average Contribution\")\n",
    "    print(\"star_authors\", round(y1[0].mean(), 4))\n",
    "    print(\"wmi_authors\", round(y2[0].mean(), 4))\n",
    "    print(\"hs_authors\", round(y3[0].mean(), 4))\n",
    "    print(\"hstf_authors\", round(y4[0].mean(), 4))\n",
    "    \n",
    "    print(\"\\n\" ,\"Standard Deviation Contribution\")\n",
    "    print(\"star_authors\", round(y1[0].std(), 4))\n",
    "    print(\"wmi_authors\", round(y2[0].std(), 4))\n",
    "    print(\"hs_authors\", round(y3[0].std(), 4))\n",
    "    print(\"hstf_authors\", round(y4[0].std(), 4))"
   ]
  },
  {
   "cell_type": "markdown",
   "metadata": {},
   "source": [
    "### Top authors profile"
   ]
  },
  {
   "cell_type": "code",
   "execution_count": null,
   "metadata": {},
   "outputs": [],
   "source": [
    "def WriteTopAuthorToDOCX(docx_author, file_path):\n",
    "    \n",
    "    document = Document()\n",
    "\n",
    "    table = document.add_table(rows=1, cols=7, style='Table Grid')\n",
    "    hdr_cells = table.rows[0].cells\n",
    "    hdr_cells[0].text = 'Position'\n",
    "    hdr_cells[1].text = 'Author'\n",
    "    hdr_cells[2].text = 'HS Score'\n",
    "    hdr_cells[3].text = '# of Paper'\n",
    "    hdr_cells[4].text = '# of Citation'\n",
    "    hdr_cells[5].text = 'Affiliations'\n",
    "    hdr_cells[6].text = 'Area'\n",
    "\n",
    "    for i, author in docx_author.iterrows():\n",
    "\n",
    "        row_cells = table.add_row().cells\n",
    "        row_cells[0].text = str(i+1)\n",
    "        row_cells[1].text = re.sub(r'[^a-zA-Z\\.\\-]', \" \", author['authors'][0])\n",
    "        row_cells[2].text = str(round(float(author['n_score']), 4))\n",
    "        row_cells[3].text = str(author.n_paper)\n",
    "        row_cells[4].text = str(author.n_citation)\n",
    "        row_cells[5].text = re.sub(r'[^a-zA-Z0-9\\.\\-]', \" \", author.affiliations[0])\n",
    "        row_cells[6].text = ', '.join(author.area)\n",
    "\n",
    "    document.add_page_break()\n",
    "\n",
    "    document.save(folder_path+'Experiment/'+file_path+'.docx')\n",
    "    print(\"top authors profile successfully saved to\", folder_path+'Experiment/'+file_path+'.docx')\n",
    "    \n",
    "if __name__ == \"__main__\":\n",
    "    \n",
    "    star_authors.sort_values(by=['score'], inplace=True, ascending=False)\n",
    "    WriteTopAuthorToDOCX(star_authors.head(top_author), 'top_star_author_profile')\n",
    "    \n",
    "    wmi_authors.sort_values(by=['score'], inplace=True, ascending=False)\n",
    "    WriteTopAuthorToDOCX(wmi_authors.head(top_author), 'top_wmi_author_profile')\n",
    "    \n",
    "    hs_authors.sort_values(by=['n_score'], inplace=True, ascending=False)\n",
    "    WriteTopAuthorToDOCX(hs_author.head(top_author), 'top_hs_author_profile')\n",
    "    \n",
    "    hstf_authors.sort_values(by=['n_score'], inplace=True, ascending=False)\n",
    "    WriteTopAuthorToDOCX(hstf_author.head(top_author), 'top_hstf_author_profile')"
   ]
  },
  {
   "cell_type": "markdown",
   "metadata": {},
   "source": [
    "### Dummy Testing Code"
   ]
  },
  {
   "cell_type": "code",
   "execution_count": null,
   "metadata": {},
   "outputs": [],
   "source": []
  }
 ],
 "metadata": {
  "kernelspec": {
   "display_name": "Python 3",
   "language": "python",
   "name": "python3"
  },
  "language_info": {
   "codemirror_mode": {
    "name": "ipython",
    "version": 3
   },
   "file_extension": ".py",
   "mimetype": "text/x-python",
   "name": "python",
   "nbconvert_exporter": "python",
   "pygments_lexer": "ipython3",
   "version": "3.7.3"
  }
 },
 "nbformat": 4,
 "nbformat_minor": 2
}
